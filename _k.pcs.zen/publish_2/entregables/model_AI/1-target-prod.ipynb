{
 "cells": [
  {
   "attachments": {},
   "cell_type": "markdown",
   "metadata": {},
   "source": [
    "Procedemos a estudiar la variable objetivo de producción de cultivo (unidades = kgs) Vamos a hacer una búsqueda de outliears para dicha variable, identificando aquellos valores que se alejen mucho de la media y desviación típica."
   ]
  },
  {
   "cell_type": "code",
   "execution_count": 58,
   "metadata": {},
   "outputs": [],
   "source": [
    "import random\n",
    "import pandas as pd\n",
    "import numpy as np"
   ]
  },
  {
   "cell_type": "code",
   "execution_count": 59,
   "metadata": {},
   "outputs": [
    {
     "data": {
      "text/plain": [
       "[31595,\n",
       " 3285,\n",
       " 2581,\n",
       " 13155,\n",
       " 2487,\n",
       " 0,\n",
       " 3843,\n",
       " 2537,\n",
       " 14912,\n",
       " 10374,\n",
       " 5482,\n",
       " 6076,\n",
       " 4489,\n",
       " 1235,\n",
       " 12240,\n",
       " 10599,\n",
       " 4426,\n",
       " 691,\n",
       " 5631,\n",
       " 2173,\n",
       " 1729,\n",
       " 12134,\n",
       " 3248,\n",
       " 4940,\n",
       " 4322]"
      ]
     },
     "execution_count": 59,
     "metadata": {},
     "output_type": "execute_result"
    }
   ],
   "source": [
    "\n",
    "# PRODUCCIÓ TARGET\n",
    "\n",
    "target = pd.read_csv('./data/target_PROD.csv')\n",
    "\n",
    "y = target[['PROD']]\n",
    "\n",
    "y = list(target['PROD'])\n",
    "\n",
    "y"
   ]
  },
  {
   "cell_type": "code",
   "execution_count": 60,
   "metadata": {},
   "outputs": [
    {
     "data": {
      "image/png": "[encoded data removed]",
      "text/plain": [
       "<Figure size 432x288 with 1 Axes>"
      ]
     },
     "metadata": {
      "needs_background": "light"
     },
     "output_type": "display_data"
    }
   ],
   "source": [
    "import matplotlib.pyplot as plt\n",
    "\n",
    "# PLOT 1-D data\n",
    "\n",
    "plt.scatter(y,[0] * len(y))\n",
    "\n",
    "plt.show()"
   ]
  },
  {
   "cell_type": "code",
   "execution_count": 61,
   "metadata": {},
   "outputs": [
    {
     "data": {
      "text/plain": [
       "<seaborn.axisgrid.FacetGrid at 0x12ce271f2e0>"
      ]
     },
     "execution_count": 61,
     "metadata": {},
     "output_type": "execute_result"
    },
    {
     "data": {
      "image/png": "[encoded data removed]",
      "text/plain": [
       "<Figure size 360x360 with 1 Axes>"
      ]
     },
     "metadata": {
      "needs_background": "light"
     },
     "output_type": "display_data"
    }
   ],
   "source": [
    "# DISTRIBUTION:\n",
    "\n",
    "import seaborn as sns\n",
    "\n",
    "sns.displot(y , binwidth=1000)"
   ]
  },
  {
   "cell_type": "code",
   "execution_count": 62,
   "metadata": {},
   "outputs": [
    {
     "name": "stdout",
     "output_type": "stream",
     "text": [
      "mean of the dataset is 6567.36\n",
      "std. deviation is 6569.716242761174\n"
     ]
    }
   ],
   "source": [
    "# para una búsqueda sencilla y automática de outliers realizamos el siguiente proceso utilizando una distribución normal.\n",
    "\n",
    "import numpy as np\n",
    "\n",
    "mean = np.mean(y)\n",
    "std = np.std(y)\n",
    "\n",
    "print('mean of the dataset is', mean)\n",
    "print('std. deviation is', std)"
   ]
  },
  {
   "attachments": {},
   "cell_type": "markdown",
   "metadata": {},
   "source": [
    "Z-SCORE OUTLIERS\n",
    "\n",
    "If the z score of a data point is more than 3, it indicates that the data point is quite different from the other data points. Such a data point can be an outlier.\n",
    "\n",
    "https://en.wikipedia.org/wiki/Standard_score"
   ]
  },
  {
   "cell_type": "code",
   "execution_count": 63,
   "metadata": {},
   "outputs": [
    {
     "name": "stdout",
     "output_type": "stream",
     "text": [
      "outlier in dataset is [31595]\n"
     ]
    }
   ],
   "source": [
    "threshold = 3\n",
    "\n",
    "outlier = []\n",
    "\n",
    "for i in y:\n",
    "\n",
    "    z = (i-mean)/std\n",
    "\n",
    "    if z > threshold:\n",
    "\n",
    "        outlier.append(i)\n",
    "        \n",
    "print('outlier in dataset is', outlier)"
   ]
  },
  {
   "cell_type": "code",
   "execution_count": 64,
   "metadata": {},
   "outputs": [],
   "source": [
    "# los valores anteriores son candidatos a eliminarse de la tabla."
   ]
  },
  {
   "cell_type": "code",
   "execution_count": 65,
   "metadata": {},
   "outputs": [
    {
     "data": {
      "text/plain": [
       "<matplotlib.collections.PathCollection at 0x12ce27c7b80>"
      ]
     },
     "execution_count": 65,
     "metadata": {},
     "output_type": "execute_result"
    },
    {
     "data": {
      "image/png": "[encoded data removed]",
      "text/plain": [
       "<Figure size 432x288 with 1 Axes>"
      ]
     },
     "metadata": {
      "needs_background": "light"
     },
     "output_type": "display_data"
    }
   ],
   "source": [
    "# damos valores 2-d dimensionales para visualizar los datos:\n",
    "\n",
    "x = y\n",
    "y = y\n",
    "\n",
    "df = pd.DataFrame({'x':x, 'y':y})\n",
    "\n",
    "df\n",
    "\n",
    "plt.scatter(df['x'], df['y'])"
   ]
  },
  {
   "cell_type": "code",
   "execution_count": 66,
   "metadata": {},
   "outputs": [
    {
     "data": {
      "text/plain": [
       "array([82684115.00000006,  8596845.00000001,  6754477.00000001,\n",
       "       34426635.00000003,  6508479.00000001,        0.        ,\n",
       "       10057131.00000001,  6639329.00000001, 39024704.00000003,\n",
       "       27148758.00000002, 14346394.00000001, 15900892.00000001,\n",
       "       11747713.00000001,  3231995.        , 32032080.00000003,\n",
       "       27737583.00000002, 11582842.00000001,  1808347.        ,\n",
       "       14736327.00000001,  5686741.        ,  4524793.        ,\n",
       "       31754678.00000003,  8500016.00000001, 12927980.00000001,\n",
       "       11310674.00000001])"
      ]
     },
     "execution_count": 66,
     "metadata": {},
     "output_type": "execute_result"
    }
   ],
   "source": [
    "from sklearn.svm import OneClassSVM\n",
    "\n",
    "clf = OneClassSVM(gamma='auto', kernel='linear', nu=0.1).fit(df)\n",
    "\n",
    "clf.predict(df)\n",
    "\n",
    "clf.score_samples(df)"
   ]
  }
 ],
 "metadata": {
  "kernelspec": {
   "display_name": "Python 3",
   "language": "python",
   "name": "python3"
  },
  "language_info": {
   "codemirror_mode": {
    "name": "ipython",
    "version": 3
   },
   "file_extension": ".py",
   "mimetype": "text/x-python",
   "name": "python",
   "nbconvert_exporter": "python",
   "pygments_lexer": "ipython3",
   "version": "3.9.0 (tags/v3.9.0:9cf6752, Oct  5 2020, 15:34:40) [MSC v.1927 64 bit (AMD64)]"
  },
  "orig_nbformat": 4,
  "vscode": {
   "interpreter": {
    "hash": "e6a9e0a75812d355defcbb237ff5ccb2d024447cd7cc66eb92cc2759d91ebc09"
   }
  }
 },
 "nbformat": 4,
 "nbformat_minor": 2
}
