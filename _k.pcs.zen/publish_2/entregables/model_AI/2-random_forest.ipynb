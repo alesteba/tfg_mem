{
 "cells": [
  {
   "cell_type": "code",
   "execution_count": 29,
   "metadata": {},
   "outputs": [],
   "source": [
    "import pandas as pd\n",
    "import numpy as np\n",
    "import random"
   ]
  },
  {
   "cell_type": "code",
   "execution_count": 30,
   "metadata": {},
   "outputs": [
    {
     "data": {
      "text/html": [
       "<div>\n",
       "<style scoped>\n",
       "    .dataframe tbody tr th:only-of-type {\n",
       "        vertical-align: middle;\n",
       "    }\n",
       "\n",
       "    .dataframe tbody tr th {\n",
       "        vertical-align: top;\n",
       "    }\n",
       "\n",
       "    .dataframe thead th {\n",
       "        text-align: right;\n",
       "    }\n",
       "</style>\n",
       "<table border=\"1\" class=\"dataframe\">\n",
       "  <thead>\n",
       "    <tr style=\"text-align: right;\">\n",
       "      <th></th>\n",
       "      <th>IDX</th>\n",
       "      <th>mean_ndvi_2022-06-02</th>\n",
       "      <th>mean_ndvi_2022-06-17</th>\n",
       "      <th>mean_ndvi_2022-06-07</th>\n",
       "      <th>mean_ndvi_2022-06-22</th>\n",
       "      <th>mean_ndvi_2022-06-12</th>\n",
       "      <th>mean_ndre_2022-06-02</th>\n",
       "      <th>mean_ndre_2022-06-17</th>\n",
       "      <th>mean_ndre_2022-06-07</th>\n",
       "      <th>mean_ndre_2022-06-12</th>\n",
       "      <th>IDX.1</th>\n",
       "      <th>sum_ndvi_2022-06-02</th>\n",
       "      <th>sum_ndvi_2022-06-17</th>\n",
       "      <th>sum_ndvi_2022-06-07</th>\n",
       "      <th>sum_ndvi_2022-06-22</th>\n",
       "      <th>sum_ndvi_2022-06-12</th>\n",
       "      <th>sum_ndre_2022-06-02</th>\n",
       "      <th>sum_ndre_2022-06-17</th>\n",
       "      <th>sum_ndre_2022-06-07</th>\n",
       "      <th>sum_ndre_2022-06-12</th>\n",
       "    </tr>\n",
       "  </thead>\n",
       "  <tbody>\n",
       "    <tr>\n",
       "      <th>0</th>\n",
       "      <td>3942</td>\n",
       "      <td>0.007476</td>\n",
       "      <td>0.212770</td>\n",
       "      <td>0.180844</td>\n",
       "      <td>0.038478</td>\n",
       "      <td>0.219896</td>\n",
       "      <td>-0.017073</td>\n",
       "      <td>0.151714</td>\n",
       "      <td>0.123746</td>\n",
       "      <td>0.153333</td>\n",
       "      <td>3942</td>\n",
       "      <td>0.530825</td>\n",
       "      <td>15.106694</td>\n",
       "      <td>12.839933</td>\n",
       "      <td>2.731913</td>\n",
       "      <td>15.612608</td>\n",
       "      <td>-1.212181</td>\n",
       "      <td>10.771678</td>\n",
       "      <td>8.785966</td>\n",
       "      <td>10.886635</td>\n",
       "    </tr>\n",
       "    <tr>\n",
       "      <th>1</th>\n",
       "      <td>4053</td>\n",
       "      <td>0.008709</td>\n",
       "      <td>0.202058</td>\n",
       "      <td>0.165046</td>\n",
       "      <td>-0.019584</td>\n",
       "      <td>0.198812</td>\n",
       "      <td>-0.007738</td>\n",
       "      <td>0.134886</td>\n",
       "      <td>0.106043</td>\n",
       "      <td>0.128798</td>\n",
       "      <td>4053</td>\n",
       "      <td>1.689533</td>\n",
       "      <td>39.199349</td>\n",
       "      <td>32.018860</td>\n",
       "      <td>-3.799293</td>\n",
       "      <td>38.569600</td>\n",
       "      <td>-1.501124</td>\n",
       "      <td>26.167940</td>\n",
       "      <td>20.572346</td>\n",
       "      <td>24.986805</td>\n",
       "    </tr>\n",
       "    <tr>\n",
       "      <th>2</th>\n",
       "      <td>4196</td>\n",
       "      <td>0.204576</td>\n",
       "      <td>0.192939</td>\n",
       "      <td>0.156745</td>\n",
       "      <td>-0.011448</td>\n",
       "      <td>0.186642</td>\n",
       "      <td>0.226347</td>\n",
       "      <td>0.128658</td>\n",
       "      <td>0.095656</td>\n",
       "      <td>0.117090</td>\n",
       "      <td>4196</td>\n",
       "      <td>19.639275</td>\n",
       "      <td>18.522111</td>\n",
       "      <td>15.047543</td>\n",
       "      <td>-1.099016</td>\n",
       "      <td>17.917662</td>\n",
       "      <td>21.729303</td>\n",
       "      <td>12.351145</td>\n",
       "      <td>9.183014</td>\n",
       "      <td>11.240659</td>\n",
       "    </tr>\n",
       "    <tr>\n",
       "      <th>3</th>\n",
       "      <td>4422</td>\n",
       "      <td>-0.001838</td>\n",
       "      <td>0.198717</td>\n",
       "      <td>0.181343</td>\n",
       "      <td>-0.002894</td>\n",
       "      <td>0.215428</td>\n",
       "      <td>-0.036878</td>\n",
       "      <td>0.132829</td>\n",
       "      <td>0.113879</td>\n",
       "      <td>0.136089</td>\n",
       "      <td>4422</td>\n",
       "      <td>-0.104746</td>\n",
       "      <td>11.326846</td>\n",
       "      <td>10.336535</td>\n",
       "      <td>-0.164956</td>\n",
       "      <td>12.279409</td>\n",
       "      <td>-2.102046</td>\n",
       "      <td>7.571269</td>\n",
       "      <td>6.491099</td>\n",
       "      <td>7.757051</td>\n",
       "    </tr>\n",
       "    <tr>\n",
       "      <th>4</th>\n",
       "      <td>4424</td>\n",
       "      <td>-0.046762</td>\n",
       "      <td>0.205482</td>\n",
       "      <td>0.185708</td>\n",
       "      <td>-0.005377</td>\n",
       "      <td>0.218237</td>\n",
       "      <td>-0.094255</td>\n",
       "      <td>0.145178</td>\n",
       "      <td>0.124556</td>\n",
       "      <td>0.148208</td>\n",
       "      <td>4424</td>\n",
       "      <td>-1.730197</td>\n",
       "      <td>7.602816</td>\n",
       "      <td>6.871180</td>\n",
       "      <td>-0.198932</td>\n",
       "      <td>8.074769</td>\n",
       "      <td>-3.487440</td>\n",
       "      <td>5.371600</td>\n",
       "      <td>4.608560</td>\n",
       "      <td>5.483689</td>\n",
       "    </tr>\n",
       "  </tbody>\n",
       "</table>\n",
       "</div>"
      ],
      "text/plain": [
       "    IDX  mean_ndvi_2022-06-02  mean_ndvi_2022-06-17  mean_ndvi_2022-06-07  \\\n",
       "0  3942              0.007476              0.212770              0.180844   \n",
       "1  4053              0.008709              0.202058              0.165046   \n",
       "2  4196              0.204576              0.192939              0.156745   \n",
       "3  4422             -0.001838              0.198717              0.181343   \n",
       "4  4424             -0.046762              0.205482              0.185708   \n",
       "\n",
       "   mean_ndvi_2022-06-22  mean_ndvi_2022-06-12  mean_ndre_2022-06-02  \\\n",
       "0              0.038478              0.219896             -0.017073   \n",
       "1             -0.019584              0.198812             -0.007738   \n",
       "2             -0.011448              0.186642              0.226347   \n",
       "3             -0.002894              0.215428             -0.036878   \n",
       "4             -0.005377              0.218237             -0.094255   \n",
       "\n",
       "   mean_ndre_2022-06-17  mean_ndre_2022-06-07  mean_ndre_2022-06-12  IDX.1  \\\n",
       "0              0.151714              0.123746              0.153333   3942   \n",
       "1              0.134886              0.106043              0.128798   4053   \n",
       "2              0.128658              0.095656              0.117090   4196   \n",
       "3              0.132829              0.113879              0.136089   4422   \n",
       "4              0.145178              0.124556              0.148208   4424   \n",
       "\n",
       "   sum_ndvi_2022-06-02  sum_ndvi_2022-06-17  sum_ndvi_2022-06-07  \\\n",
       "0             0.530825            15.106694            12.839933   \n",
       "1             1.689533            39.199349            32.018860   \n",
       "2            19.639275            18.522111            15.047543   \n",
       "3            -0.104746            11.326846            10.336535   \n",
       "4            -1.730197             7.602816             6.871180   \n",
       "\n",
       "   sum_ndvi_2022-06-22  sum_ndvi_2022-06-12  sum_ndre_2022-06-02  \\\n",
       "0             2.731913            15.612608            -1.212181   \n",
       "1            -3.799293            38.569600            -1.501124   \n",
       "2            -1.099016            17.917662            21.729303   \n",
       "3            -0.164956            12.279409            -2.102046   \n",
       "4            -0.198932             8.074769            -3.487440   \n",
       "\n",
       "   sum_ndre_2022-06-17  sum_ndre_2022-06-07  sum_ndre_2022-06-12  \n",
       "0            10.771678             8.785966            10.886635  \n",
       "1            26.167940            20.572346            24.986805  \n",
       "2            12.351145             9.183014            11.240659  \n",
       "3             7.571269             6.491099             7.757051  \n",
       "4             5.371600             4.608560             5.483689  "
      ]
     },
     "execution_count": 30,
     "metadata": {},
     "output_type": "execute_result"
    }
   ],
   "source": [
    "df = pd.read_csv(r'./data/preprocess.csv')\n",
    "\n",
    "df.head()"
   ]
  },
  {
   "cell_type": "code",
   "execution_count": 31,
   "metadata": {},
   "outputs": [],
   "source": [
    "target = pd.read_csv('./data/target_PROD.csv')"
   ]
  },
  {
   "cell_type": "code",
   "execution_count": 32,
   "metadata": {},
   "outputs": [
    {
     "data": {
      "text/plain": [
       "'[31595, 3285, 2581, 13155, 2487, 0, 3843, 2537, 14912, 10374, 5482, 6076, 4489, 1235, 12240, 10599, 4426, 691, 5631, 2173, 1729, 12134, 3248, 4940, 4322]'"
      ]
     },
     "execution_count": 32,
     "metadata": {},
     "output_type": "execute_result"
    }
   ],
   "source": [
    "l = target[['PROD']]\n",
    "\n",
    "str(list(l['PROD']))"
   ]
  },
  {
   "cell_type": "code",
   "execution_count": 33,
   "metadata": {},
   "outputs": [],
   "source": [
    "from sklearn.preprocessing import LabelEncoder\n",
    "from sklearn.model_selection import train_test_split\n",
    "from sklearn.preprocessing import StandardScaler\n",
    "\n",
    "X = pd.read_csv(r'./preprocess.csv')\n",
    "y = l"
   ]
  },
  {
   "cell_type": "code",
   "execution_count": 34,
   "metadata": {},
   "outputs": [],
   "source": [
    "import warnings\n",
    "warnings.filterwarnings('ignore')"
   ]
  },
  {
   "cell_type": "code",
   "execution_count": 35,
   "metadata": {},
   "outputs": [],
   "source": [
    "SEED = 42\n",
    "\n",
    "X_train, X_test, y_train, y_test= train_test_split(\n",
    "    \n",
    "    X,y,\n",
    "    train_size   = 0.8,\n",
    "    random_state = SEED,\n",
    ")"
   ]
  },
  {
   "attachments": {},
   "cell_type": "markdown",
   "metadata": {},
   "source": [
    "## BUSQUEDA _ HIPERPARÁMETROS"
   ]
  },
  {
   "cell_type": "code",
   "execution_count": 36,
   "metadata": {},
   "outputs": [
    {
     "data": {
      "text/html": [
       "<style>#sk-container-id-2 {color: black;background-color: white;}#sk-container-id-2 pre{padding: 0;}#sk-container-id-2 div.sk-toggleable {background-color: white;}#sk-container-id-2 label.sk-toggleable__label {cursor: pointer;display: block;width: 100%;margin-bottom: 0;padding: 0.3em;box-sizing: border-box;text-align: center;}#sk-container-id-2 label.sk-toggleable__label-arrow:before {content: \"▸\";float: left;margin-right: 0.25em;color: #696969;}#sk-container-id-2 label.sk-toggleable__label-arrow:hover:before {color: black;}#sk-container-id-2 div.sk-estimator:hover label.sk-toggleable__label-arrow:before {color: black;}#sk-container-id-2 div.sk-toggleable__content {max-height: 0;max-width: 0;overflow: hidden;text-align: left;background-color: #f0f8ff;}#sk-container-id-2 div.sk-toggleable__content pre {margin: 0.2em;color: black;border-radius: 0.25em;background-color: #f0f8ff;}#sk-container-id-2 input.sk-toggleable__control:checked~div.sk-toggleable__content {max-height: 200px;max-width: 100%;overflow: auto;}#sk-container-id-2 input.sk-toggleable__control:checked~label.sk-toggleable__label-arrow:before {content: \"▾\";}#sk-container-id-2 div.sk-estimator input.sk-toggleable__control:checked~label.sk-toggleable__label {background-color: #d4ebff;}#sk-container-id-2 div.sk-label input.sk-toggleable__control:checked~label.sk-toggleable__label {background-color: #d4ebff;}#sk-container-id-2 input.sk-hidden--visually {border: 0;clip: rect(1px 1px 1px 1px);clip: rect(1px, 1px, 1px, 1px);height: 1px;margin: -1px;overflow: hidden;padding: 0;position: absolute;width: 1px;}#sk-container-id-2 div.sk-estimator {font-family: monospace;background-color: #f0f8ff;border: 1px dotted black;border-radius: 0.25em;box-sizing: border-box;margin-bottom: 0.5em;}#sk-container-id-2 div.sk-estimator:hover {background-color: #d4ebff;}#sk-container-id-2 div.sk-parallel-item::after {content: \"\";width: 100%;border-bottom: 1px solid gray;flex-grow: 1;}#sk-container-id-2 div.sk-label:hover label.sk-toggleable__label {background-color: #d4ebff;}#sk-container-id-2 div.sk-serial::before {content: \"\";position: absolute;border-left: 1px solid gray;box-sizing: border-box;top: 0;bottom: 0;left: 50%;z-index: 0;}#sk-container-id-2 div.sk-serial {display: flex;flex-direction: column;align-items: center;background-color: white;padding-right: 0.2em;padding-left: 0.2em;position: relative;}#sk-container-id-2 div.sk-item {position: relative;z-index: 1;}#sk-container-id-2 div.sk-parallel {display: flex;align-items: stretch;justify-content: center;background-color: white;position: relative;}#sk-container-id-2 div.sk-item::before, #sk-container-id-2 div.sk-parallel-item::before {content: \"\";position: absolute;border-left: 1px solid gray;box-sizing: border-box;top: 0;bottom: 0;left: 50%;z-index: -1;}#sk-container-id-2 div.sk-parallel-item {display: flex;flex-direction: column;z-index: 1;position: relative;background-color: white;}#sk-container-id-2 div.sk-parallel-item:first-child::after {align-self: flex-end;width: 50%;}#sk-container-id-2 div.sk-parallel-item:last-child::after {align-self: flex-start;width: 50%;}#sk-container-id-2 div.sk-parallel-item:only-child::after {width: 0;}#sk-container-id-2 div.sk-dashed-wrapped {border: 1px dashed gray;margin: 0 0.4em 0.5em 0.4em;box-sizing: border-box;padding-bottom: 0.4em;background-color: white;}#sk-container-id-2 div.sk-label label {font-family: monospace;font-weight: bold;display: inline-block;line-height: 1.2em;}#sk-container-id-2 div.sk-label-container {text-align: center;}#sk-container-id-2 div.sk-container {/* jupyter's `normalize.less` sets `[hidden] { display: none; }` but bootstrap.min.css set `[hidden] { display: none !important; }` so we also need the `!important` here to be able to override the default hidden behavior on the sphinx rendered scikit-learn.org. See: https://github.com/scikit-learn/scikit-learn/issues/21755 */display: inline-block !important;position: relative;}#sk-container-id-2 div.sk-text-repr-fallback {display: none;}</style><div id=\"sk-container-id-2\" class=\"sk-top-container\"><div class=\"sk-text-repr-fallback\"><pre>GridSearchCV(cv=5, estimator=RandomForestRegressor(),\n",
       "             param_grid={&#x27;max_depth&#x27;: [3, 4, 5, 6, 7],\n",
       "                         &#x27;max_features&#x27;: [&#x27;sqrt&#x27;, &#x27;log2&#x27;],\n",
       "                         &#x27;n_estimators&#x27;: [5, 10, 25], &#x27;random_state&#x27;: [42]})</pre><b>In a Jupyter environment, please rerun this cell to show the HTML representation or trust the notebook. <br />On GitHub, the HTML representation is unable to render, please try loading this page with nbviewer.org.</b></div><div class=\"sk-container\" hidden><div class=\"sk-item sk-dashed-wrapped\"><div class=\"sk-label-container\"><div class=\"sk-label sk-toggleable\"><input class=\"sk-toggleable__control sk-hidden--visually\" id=\"sk-estimator-id-4\" type=\"checkbox\" ><label for=\"sk-estimator-id-4\" class=\"sk-toggleable__label sk-toggleable__label-arrow\">GridSearchCV</label><div class=\"sk-toggleable__content\"><pre>GridSearchCV(cv=5, estimator=RandomForestRegressor(),\n",
       "             param_grid={&#x27;max_depth&#x27;: [3, 4, 5, 6, 7],\n",
       "                         &#x27;max_features&#x27;: [&#x27;sqrt&#x27;, &#x27;log2&#x27;],\n",
       "                         &#x27;n_estimators&#x27;: [5, 10, 25], &#x27;random_state&#x27;: [42]})</pre></div></div></div><div class=\"sk-parallel\"><div class=\"sk-parallel-item\"><div class=\"sk-item\"><div class=\"sk-label-container\"><div class=\"sk-label sk-toggleable\"><input class=\"sk-toggleable__control sk-hidden--visually\" id=\"sk-estimator-id-5\" type=\"checkbox\" ><label for=\"sk-estimator-id-5\" class=\"sk-toggleable__label sk-toggleable__label-arrow\">estimator: RandomForestRegressor</label><div class=\"sk-toggleable__content\"><pre>RandomForestRegressor()</pre></div></div></div><div class=\"sk-serial\"><div class=\"sk-item\"><div class=\"sk-estimator sk-toggleable\"><input class=\"sk-toggleable__control sk-hidden--visually\" id=\"sk-estimator-id-6\" type=\"checkbox\" ><label for=\"sk-estimator-id-6\" class=\"sk-toggleable__label sk-toggleable__label-arrow\">RandomForestRegressor</label><div class=\"sk-toggleable__content\"><pre>RandomForestRegressor()</pre></div></div></div></div></div></div></div></div></div></div>"
      ],
      "text/plain": [
       "GridSearchCV(cv=5, estimator=RandomForestRegressor(),\n",
       "             param_grid={'max_depth': [3, 4, 5, 6, 7],\n",
       "                         'max_features': ['sqrt', 'log2'],\n",
       "                         'n_estimators': [5, 10, 25], 'random_state': [42]})"
      ]
     },
     "execution_count": 36,
     "metadata": {},
     "output_type": "execute_result"
    }
   ],
   "source": [
    "from sklearn.model_selection import train_test_split\n",
    "from sklearn.model_selection import cross_val_score\n",
    "from sklearn.model_selection import GridSearchCV\n",
    "from sklearn.ensemble import RandomForestRegressor\n",
    "\n",
    "grid = { \n",
    "    'n_estimators': [5,10,25],\n",
    "    'max_features': ['sqrt','log2'],\n",
    "    'max_depth' : [3,4,5,6,7],\n",
    "    'random_state' : [SEED]\n",
    "}\n",
    "\n",
    "CV_rfr = GridSearchCV(estimator=RandomForestRegressor(), param_grid=grid, cv= 5)\n",
    "\n",
    "CV_rfr.fit(X_train, y_train)\n",
    "\n",
    "CV_rfr"
   ]
  },
  {
   "cell_type": "code",
   "execution_count": 37,
   "metadata": {},
   "outputs": [
    {
     "data": {
      "text/plain": [
       "{'max_depth': 3,\n",
       " 'max_features': 'sqrt',\n",
       " 'n_estimators': 10,\n",
       " 'random_state': 42}"
      ]
     },
     "execution_count": 37,
     "metadata": {},
     "output_type": "execute_result"
    }
   ],
   "source": [
    "CV_rfr.best_params_"
   ]
  },
  {
   "cell_type": "code",
   "execution_count": 38,
   "metadata": {},
   "outputs": [],
   "source": [
    "from sklearn.model_selection import KFold\n",
    "from sklearn.model_selection import cross_val_score\n",
    "from numpy import mean\n",
    "from numpy import std"
   ]
  },
  {
   "cell_type": "code",
   "execution_count": 39,
   "metadata": {},
   "outputs": [
    {
     "name": "stdout",
     "output_type": "stream",
     "text": [
      "[7621.26154762 5317.7825     7980.97738095 5329.38809524 8267.41666667]\n"
     ]
    }
   ],
   "source": [
    "clf = RandomForestRegressor(**CV_rfr.best_params_)\n",
    "\n",
    "clf.fit(X_train, y_train)\n",
    "\n",
    "y_pred = clf.predict(X_test)\n",
    "\n",
    "print(y_pred)"
   ]
  },
  {
   "cell_type": "code",
   "execution_count": 63,
   "metadata": {},
   "outputs": [
    {
     "name": "stdout",
     "output_type": "stream",
     "text": [
      "Mean Absolute Error (MAE): 6875.469666666666\n",
      "Mean Squared Error (MSE): 123305227.5113765\n",
      "Root Mean Squared Error (RMSE): 11104.2886990287\n"
     ]
    }
   ],
   "source": [
    "import numpy as np\n",
    "from sklearn import metrics\n",
    "\n",
    "# printamos algunas de las métricas básicas\n",
    "\n",
    "print('Mean Absolute Error (MAE):', metrics.mean_absolute_error(y_test, y_pred))\n",
    "print('Mean Squared Error (MSE):', metrics.mean_squared_error(y_test, y_pred))\n",
    "print('Root Mean Squared Error (RMSE):', np.sqrt(metrics.mean_squared_error(y_test, y_pred)))"
   ]
  },
  {
   "cell_type": "code",
   "execution_count": 62,
   "metadata": {},
   "outputs": [],
   "source": [
    "# modelo que utilizamos para los folds: con los mejores parámetros:\n",
    "\n",
    "model = RandomForestRegressor(**CV_rfr.best_params_)"
   ]
  },
  {
   "attachments": {},
   "cell_type": "markdown",
   "metadata": {},
   "source": [
    "## TECNICAS _ VALIDACIÓN"
   ]
  },
  {
   "cell_type": "code",
   "execution_count": 64,
   "metadata": {},
   "outputs": [
    {
     "name": "stdout",
     "output_type": "stream",
     "text": [
      "MAE: 4017.065 (1783.047)\n"
     ]
    }
   ],
   "source": [
    "# preparar el procedimiento de cross-validation \n",
    "cv = KFold(n_splits=10)\n",
    "# evaluar el modelo\n",
    "scores = cross_val_score(model, X_train, y_train, scoring='neg_mean_absolute_error', cv=cv, n_jobs=-1)\n",
    "# mostrar el resultado\n",
    "print('MAE: %.3f (%.3f)' % (abs(mean(scores)), std(scores)))"
   ]
  },
  {
   "cell_type": "code",
   "execution_count": 65,
   "metadata": {},
   "outputs": [
    {
     "name": "stdout",
     "output_type": "stream",
     "text": [
      "MAE: 4282.070 (1790.709)\n"
     ]
    }
   ],
   "source": [
    "from sklearn.model_selection import RepeatedKFold\n",
    "\n",
    "# preparar el procedimiento de cross-validation \n",
    "cv = RepeatedKFold(n_splits=10, n_repeats=10)\n",
    "# evaluar el modelo\n",
    "scores = cross_val_score(model, X_train, y_train, scoring='neg_mean_absolute_error', cv=cv, n_jobs=-1)\n",
    "# mostrar el resultado\n",
    "print('MAE: %.3f (%.3f)' % (abs(mean(scores)), std(scores)))"
   ]
  },
  {
   "cell_type": "code",
   "execution_count": 67,
   "metadata": {},
   "outputs": [
    {
     "name": "stdout",
     "output_type": "stream",
     "text": [
      "MAE: 3800.943 (1328.980)\n"
     ]
    }
   ],
   "source": [
    "from sklearn.model_selection import ShuffleSplit\n",
    "\n",
    "# preparar el procedimiento de shuffle-split\n",
    "cv = ShuffleSplit(n_splits=10, random_state=1)\n",
    "# evaluar el modelo\n",
    "scores = cross_val_score(model, X_train, y_train, scoring='neg_mean_absolute_error', cv=cv, n_jobs=-1)\n",
    "# mostrar el resultado\n",
    "print('MAE: %.3f (%.3f)' % (abs(mean(scores)), std(scores)))"
   ]
  },
  {
   "cell_type": "code",
   "execution_count": null,
   "metadata": {},
   "outputs": [],
   "source": [
    "# con las técnicas de validación conseguimos reducir un poco el MAE"
   ]
  },
  {
   "cell_type": "code",
   "execution_count": null,
   "metadata": {},
   "outputs": [
    {
     "data": {
      "text/plain": [
       "[7621.261547619048,\n",
       " 5317.782499999999,\n",
       " 7980.977380952381,\n",
       " 5329.388095238095,\n",
       " 8267.416666666668]"
      ]
     },
     "execution_count": 25,
     "metadata": {},
     "output_type": "execute_result"
    }
   ],
   "source": [
    "# predecimos los datos de test\n",
    "\n",
    "pred=clf.predict(X_test)\n",
    "\n",
    "list(pred)"
   ]
  },
  {
   "attachments": {},
   "cell_type": "markdown",
   "metadata": {},
   "source": [
    "Visualizamos la curva de validación para el modelo.\n",
    "\n"
   ]
  },
  {
   "cell_type": "code",
   "execution_count": 68,
   "metadata": {},
   "outputs": [
    {
     "data": {
      "image/png": "[encoded data removed]",
      "text/plain": [
       "<Figure size 432x288 with 1 Axes>"
      ]
     },
     "metadata": {
      "needs_background": "light"
     },
     "output_type": "display_data"
    },
    {
     "name": "stdout",
     "output_type": "stream",
     "text": [
      "CPU times: total: 1.59 s\n",
      "Wall time: 1.65 s\n"
     ]
    }
   ],
   "source": [
    "%%time\n",
    "\n",
    "import matplotlib.pyplot as plt\n",
    "import numpy as np\n",
    "from sklearn.model_selection import validation_curve\n",
    "\n",
    "#Lista de parámetros\n",
    "\n",
    "param_range = range(1,10)\n",
    "\n",
    "rnd_clf = RandomForestRegressor(**CV_rfr.best_params_)\n",
    "\n",
    "#Solución\n",
    "\n",
    "#Curva de validación\n",
    "train_scores, validation_scores = validation_curve( \n",
    "       \n",
    "    rnd_clf, X_train, y_train,\n",
    "\n",
    "    param_name=\"max_depth\", \n",
    "    param_range=param_range,\n",
    "    scoring='neg_root_mean_squared_error', \n",
    "    cv=3, \n",
    "    n_jobs=1)\n",
    "\n",
    "#Pintamos la curva\n",
    "train_scores_mean = np.mean(train_scores, axis=1)\n",
    "train_scores_std = np.std(train_scores, axis=1)\n",
    "validation_scores_mean = np.mean(validation_scores, axis=1)\n",
    "validation_scores_std = np.std(validation_scores, axis=1)\n",
    "\n",
    "plt.title(\"Curva de validation random forest regressor\")\n",
    "plt.xlabel(r\"max_features\")\n",
    "plt.ylabel(\"Score\")\n",
    "lw = 2\n",
    "plt.plot(param_range, train_scores_mean, label=\"Training score\",\n",
    "             color=\"darkorange\", lw=lw)\n",
    "plt.fill_between(param_range, train_scores_mean - train_scores_std,\n",
    "                 train_scores_mean + train_scores_std, alpha=0.2,\n",
    "                 color=\"darkorange\", lw=lw)\n",
    "plt.plot(param_range, validation_scores_mean, label=\"Cross-validation score\",\n",
    "             color=\"navy\", lw=lw)\n",
    "plt.fill_between(param_range, validation_scores_mean - validation_scores_std,\n",
    "                 validation_scores_mean + validation_scores_std, alpha=0.2,\n",
    "                 color=\"navy\", lw=lw)\n",
    "plt.legend(loc=\"best\")\n",
    "plt.show()"
   ]
  }
 ],
 "metadata": {
  "kernelspec": {
   "display_name": "venv-data-science",
   "language": "python",
   "name": "venv-data-science"
  },
  "language_info": {
   "codemirror_mode": {
    "name": "ipython",
    "version": 3
   },
   "file_extension": ".py",
   "mimetype": "text/x-python",
   "name": "python",
   "nbconvert_exporter": "python",
   "pygments_lexer": "ipython3",
   "version": "3.9.0 (tags/v3.9.0:9cf6752, Oct  5 2020, 15:34:40) [MSC v.1927 64 bit (AMD64)]"
  },
  "orig_nbformat": 4,
  "vscode": {
   "interpreter": {
    "hash": "9650cb4e16cdd4a8e8e2d128bf38d875813998db22a3c986335f89e0cb4d7bb2"
   }
  }
 },
 "nbformat": 4,
 "nbformat_minor": 2
}
