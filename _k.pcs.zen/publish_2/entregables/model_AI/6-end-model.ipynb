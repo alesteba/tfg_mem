{
 "cells": [
  {
   "cell_type": "code",
   "execution_count": 77,
   "metadata": {},
   "outputs": [],
   "source": [
    "import pandas as pd\n",
    "import numpy as np\n",
    "import random\n",
    "\n",
    "from pprint import pprint"
   ]
  },
  {
   "cell_type": "code",
   "execution_count": 78,
   "metadata": {},
   "outputs": [
    {
     "data": {
      "text/html": [
       "<div>\n",
       "<style scoped>\n",
       "    .dataframe tbody tr th:only-of-type {\n",
       "        vertical-align: middle;\n",
       "    }\n",
       "\n",
       "    .dataframe tbody tr th {\n",
       "        vertical-align: top;\n",
       "    }\n",
       "\n",
       "    .dataframe thead th {\n",
       "        text-align: right;\n",
       "    }\n",
       "</style>\n",
       "<table border=\"1\" class=\"dataframe\">\n",
       "  <thead>\n",
       "    <tr style=\"text-align: right;\">\n",
       "      <th></th>\n",
       "      <th>IDX</th>\n",
       "      <th>mean_ndvi_2022-06-02</th>\n",
       "      <th>mean_ndvi_2022-06-17</th>\n",
       "      <th>mean_ndvi_2022-06-07</th>\n",
       "      <th>mean_ndvi_2022-06-22</th>\n",
       "      <th>mean_ndvi_2022-06-12</th>\n",
       "      <th>mean_ndre_2022-06-02</th>\n",
       "      <th>mean_ndre_2022-06-17</th>\n",
       "      <th>mean_ndre_2022-06-07</th>\n",
       "      <th>mean_ndre_2022-06-12</th>\n",
       "      <th>IDX.1</th>\n",
       "      <th>sum_ndvi_2022-06-02</th>\n",
       "      <th>sum_ndvi_2022-06-17</th>\n",
       "      <th>sum_ndvi_2022-06-07</th>\n",
       "      <th>sum_ndvi_2022-06-22</th>\n",
       "      <th>sum_ndvi_2022-06-12</th>\n",
       "      <th>sum_ndre_2022-06-02</th>\n",
       "      <th>sum_ndre_2022-06-17</th>\n",
       "      <th>sum_ndre_2022-06-07</th>\n",
       "      <th>sum_ndre_2022-06-12</th>\n",
       "    </tr>\n",
       "  </thead>\n",
       "  <tbody>\n",
       "    <tr>\n",
       "      <th>0</th>\n",
       "      <td>3942</td>\n",
       "      <td>0.007476</td>\n",
       "      <td>0.212770</td>\n",
       "      <td>0.180844</td>\n",
       "      <td>0.038478</td>\n",
       "      <td>0.219896</td>\n",
       "      <td>-0.017073</td>\n",
       "      <td>0.151714</td>\n",
       "      <td>0.123746</td>\n",
       "      <td>0.153333</td>\n",
       "      <td>3942</td>\n",
       "      <td>0.530825</td>\n",
       "      <td>15.106694</td>\n",
       "      <td>12.839933</td>\n",
       "      <td>2.731913</td>\n",
       "      <td>15.612608</td>\n",
       "      <td>-1.212181</td>\n",
       "      <td>10.771678</td>\n",
       "      <td>8.785966</td>\n",
       "      <td>10.886635</td>\n",
       "    </tr>\n",
       "    <tr>\n",
       "      <th>1</th>\n",
       "      <td>4053</td>\n",
       "      <td>0.008709</td>\n",
       "      <td>0.202058</td>\n",
       "      <td>0.165046</td>\n",
       "      <td>-0.019584</td>\n",
       "      <td>0.198812</td>\n",
       "      <td>-0.007738</td>\n",
       "      <td>0.134886</td>\n",
       "      <td>0.106043</td>\n",
       "      <td>0.128798</td>\n",
       "      <td>4053</td>\n",
       "      <td>1.689533</td>\n",
       "      <td>39.199349</td>\n",
       "      <td>32.018860</td>\n",
       "      <td>-3.799293</td>\n",
       "      <td>38.569600</td>\n",
       "      <td>-1.501124</td>\n",
       "      <td>26.167940</td>\n",
       "      <td>20.572346</td>\n",
       "      <td>24.986805</td>\n",
       "    </tr>\n",
       "    <tr>\n",
       "      <th>2</th>\n",
       "      <td>4196</td>\n",
       "      <td>0.204576</td>\n",
       "      <td>0.192939</td>\n",
       "      <td>0.156745</td>\n",
       "      <td>-0.011448</td>\n",
       "      <td>0.186642</td>\n",
       "      <td>0.226347</td>\n",
       "      <td>0.128658</td>\n",
       "      <td>0.095656</td>\n",
       "      <td>0.117090</td>\n",
       "      <td>4196</td>\n",
       "      <td>19.639275</td>\n",
       "      <td>18.522111</td>\n",
       "      <td>15.047543</td>\n",
       "      <td>-1.099016</td>\n",
       "      <td>17.917662</td>\n",
       "      <td>21.729303</td>\n",
       "      <td>12.351145</td>\n",
       "      <td>9.183014</td>\n",
       "      <td>11.240659</td>\n",
       "    </tr>\n",
       "    <tr>\n",
       "      <th>3</th>\n",
       "      <td>4422</td>\n",
       "      <td>-0.001838</td>\n",
       "      <td>0.198717</td>\n",
       "      <td>0.181343</td>\n",
       "      <td>-0.002894</td>\n",
       "      <td>0.215428</td>\n",
       "      <td>-0.036878</td>\n",
       "      <td>0.132829</td>\n",
       "      <td>0.113879</td>\n",
       "      <td>0.136089</td>\n",
       "      <td>4422</td>\n",
       "      <td>-0.104746</td>\n",
       "      <td>11.326846</td>\n",
       "      <td>10.336535</td>\n",
       "      <td>-0.164956</td>\n",
       "      <td>12.279409</td>\n",
       "      <td>-2.102046</td>\n",
       "      <td>7.571269</td>\n",
       "      <td>6.491099</td>\n",
       "      <td>7.757051</td>\n",
       "    </tr>\n",
       "    <tr>\n",
       "      <th>4</th>\n",
       "      <td>4424</td>\n",
       "      <td>-0.046762</td>\n",
       "      <td>0.205482</td>\n",
       "      <td>0.185708</td>\n",
       "      <td>-0.005377</td>\n",
       "      <td>0.218237</td>\n",
       "      <td>-0.094255</td>\n",
       "      <td>0.145178</td>\n",
       "      <td>0.124556</td>\n",
       "      <td>0.148208</td>\n",
       "      <td>4424</td>\n",
       "      <td>-1.730197</td>\n",
       "      <td>7.602816</td>\n",
       "      <td>6.871180</td>\n",
       "      <td>-0.198932</td>\n",
       "      <td>8.074769</td>\n",
       "      <td>-3.487440</td>\n",
       "      <td>5.371600</td>\n",
       "      <td>4.608560</td>\n",
       "      <td>5.483689</td>\n",
       "    </tr>\n",
       "  </tbody>\n",
       "</table>\n",
       "</div>"
      ],
      "text/plain": [
       "    IDX  mean_ndvi_2022-06-02  mean_ndvi_2022-06-17  mean_ndvi_2022-06-07  \\\n",
       "0  3942              0.007476              0.212770              0.180844   \n",
       "1  4053              0.008709              0.202058              0.165046   \n",
       "2  4196              0.204576              0.192939              0.156745   \n",
       "3  4422             -0.001838              0.198717              0.181343   \n",
       "4  4424             -0.046762              0.205482              0.185708   \n",
       "\n",
       "   mean_ndvi_2022-06-22  mean_ndvi_2022-06-12  mean_ndre_2022-06-02  \\\n",
       "0              0.038478              0.219896             -0.017073   \n",
       "1             -0.019584              0.198812             -0.007738   \n",
       "2             -0.011448              0.186642              0.226347   \n",
       "3             -0.002894              0.215428             -0.036878   \n",
       "4             -0.005377              0.218237             -0.094255   \n",
       "\n",
       "   mean_ndre_2022-06-17  mean_ndre_2022-06-07  mean_ndre_2022-06-12  IDX.1  \\\n",
       "0              0.151714              0.123746              0.153333   3942   \n",
       "1              0.134886              0.106043              0.128798   4053   \n",
       "2              0.128658              0.095656              0.117090   4196   \n",
       "3              0.132829              0.113879              0.136089   4422   \n",
       "4              0.145178              0.124556              0.148208   4424   \n",
       "\n",
       "   sum_ndvi_2022-06-02  sum_ndvi_2022-06-17  sum_ndvi_2022-06-07  \\\n",
       "0             0.530825            15.106694            12.839933   \n",
       "1             1.689533            39.199349            32.018860   \n",
       "2            19.639275            18.522111            15.047543   \n",
       "3            -0.104746            11.326846            10.336535   \n",
       "4            -1.730197             7.602816             6.871180   \n",
       "\n",
       "   sum_ndvi_2022-06-22  sum_ndvi_2022-06-12  sum_ndre_2022-06-02  \\\n",
       "0             2.731913            15.612608            -1.212181   \n",
       "1            -3.799293            38.569600            -1.501124   \n",
       "2            -1.099016            17.917662            21.729303   \n",
       "3            -0.164956            12.279409            -2.102046   \n",
       "4            -0.198932             8.074769            -3.487440   \n",
       "\n",
       "   sum_ndre_2022-06-17  sum_ndre_2022-06-07  sum_ndre_2022-06-12  \n",
       "0            10.771678             8.785966            10.886635  \n",
       "1            26.167940            20.572346            24.986805  \n",
       "2            12.351145             9.183014            11.240659  \n",
       "3             7.571269             6.491099             7.757051  \n",
       "4             5.371600             4.608560             5.483689  "
      ]
     },
     "execution_count": 78,
     "metadata": {},
     "output_type": "execute_result"
    }
   ],
   "source": [
    "df = pd.read_csv(r'./data/preprocess.csv')\n",
    "\n",
    "df.head()"
   ]
  },
  {
   "cell_type": "code",
   "execution_count": 79,
   "metadata": {},
   "outputs": [],
   "source": [
    "target = pd.read_csv('./data/target_PROD.csv')"
   ]
  },
  {
   "cell_type": "code",
   "execution_count": 80,
   "metadata": {},
   "outputs": [],
   "source": [
    "X = pd.read_csv(r'./preprocess.csv')\n",
    "\n",
    "y = target['PROD']"
   ]
  },
  {
   "attachments": {},
   "cell_type": "markdown",
   "metadata": {},
   "source": [
    "En este último punto vamos a realizar un estudio de las correlaciones entre los índices que han llegado a la vista minable que utilizamos. Procedemos con un análisis de componentes principales, visualizamos algunas de las relaciones entre las columnas. Utilizamos el mejor modelo estudio con sus mejores hyperparámetros y dejaremos un puequeño script para predecir los resultados a partir de los datos que tenemos y el modelo estudiado."
   ]
  },
  {
   "cell_type": "code",
   "execution_count": 81,
   "metadata": {},
   "outputs": [],
   "source": [
    "# puede que sea importante reducir la dimensionalidad:\n",
    "\n",
    "from sklearn.model_selection import train_test_split"
   ]
  },
  {
   "cell_type": "code",
   "execution_count": 82,
   "metadata": {},
   "outputs": [],
   "source": [
    "SEED = 42\n",
    "\n",
    "X_train, X_test, y_train, y_test= train_test_split(\n",
    "    \n",
    "    X,y,\n",
    "    train_size   = 0.8,\n",
    "    random_state = SEED,\n",
    ")"
   ]
  },
  {
   "cell_type": "code",
   "execution_count": 83,
   "metadata": {},
   "outputs": [
    {
     "data": {
      "text/html": [
       "<div>\n",
       "<style scoped>\n",
       "    .dataframe tbody tr th:only-of-type {\n",
       "        vertical-align: middle;\n",
       "    }\n",
       "\n",
       "    .dataframe tbody tr th {\n",
       "        vertical-align: top;\n",
       "    }\n",
       "\n",
       "    .dataframe thead th {\n",
       "        text-align: right;\n",
       "    }\n",
       "</style>\n",
       "<table border=\"1\" class=\"dataframe\">\n",
       "  <thead>\n",
       "    <tr style=\"text-align: right;\">\n",
       "      <th></th>\n",
       "      <th>variable_1</th>\n",
       "      <th>variable_2</th>\n",
       "      <th>r</th>\n",
       "      <th>abs_r</th>\n",
       "    </tr>\n",
       "  </thead>\n",
       "  <tbody>\n",
       "    <tr>\n",
       "      <th>200</th>\n",
       "      <td>IDX.1</td>\n",
       "      <td>IDX</td>\n",
       "      <td>1.000000</td>\n",
       "      <td>1.000000</td>\n",
       "    </tr>\n",
       "    <tr>\n",
       "      <th>10</th>\n",
       "      <td>IDX</td>\n",
       "      <td>IDX.1</td>\n",
       "      <td>1.000000</td>\n",
       "      <td>1.000000</td>\n",
       "    </tr>\n",
       "    <tr>\n",
       "      <th>257</th>\n",
       "      <td>sum_ndvi_2022-06-17</td>\n",
       "      <td>sum_ndre_2022-06-17</td>\n",
       "      <td>0.999206</td>\n",
       "      <td>0.999206</td>\n",
       "    </tr>\n",
       "    <tr>\n",
       "      <th>352</th>\n",
       "      <td>sum_ndre_2022-06-17</td>\n",
       "      <td>sum_ndvi_2022-06-17</td>\n",
       "      <td>0.999206</td>\n",
       "      <td>0.999206</td>\n",
       "    </tr>\n",
       "    <tr>\n",
       "      <th>395</th>\n",
       "      <td>sum_ndre_2022-06-12</td>\n",
       "      <td>sum_ndvi_2022-06-12</td>\n",
       "      <td>0.998884</td>\n",
       "      <td>0.998884</td>\n",
       "    </tr>\n",
       "    <tr>\n",
       "      <th>...</th>\n",
       "      <td>...</td>\n",
       "      <td>...</td>\n",
       "      <td>...</td>\n",
       "      <td>...</td>\n",
       "    </tr>\n",
       "    <tr>\n",
       "      <th>40</th>\n",
       "      <td>mean_ndvi_2022-06-17</td>\n",
       "      <td>IDX</td>\n",
       "      <td>0.023588</td>\n",
       "      <td>0.023588</td>\n",
       "    </tr>\n",
       "    <tr>\n",
       "      <th>161</th>\n",
       "      <td>mean_ndre_2022-06-07</td>\n",
       "      <td>mean_ndvi_2022-06-02</td>\n",
       "      <td>0.013912</td>\n",
       "      <td>0.013912</td>\n",
       "    </tr>\n",
       "    <tr>\n",
       "      <th>28</th>\n",
       "      <td>mean_ndvi_2022-06-02</td>\n",
       "      <td>mean_ndre_2022-06-07</td>\n",
       "      <td>0.013912</td>\n",
       "      <td>0.013912</td>\n",
       "    </tr>\n",
       "    <tr>\n",
       "      <th>282</th>\n",
       "      <td>sum_ndvi_2022-06-22</td>\n",
       "      <td>mean_ndvi_2022-06-17</td>\n",
       "      <td>0.000458</td>\n",
       "      <td>0.000458</td>\n",
       "    </tr>\n",
       "    <tr>\n",
       "      <th>54</th>\n",
       "      <td>mean_ndvi_2022-06-17</td>\n",
       "      <td>sum_ndvi_2022-06-22</td>\n",
       "      <td>0.000458</td>\n",
       "      <td>0.000458</td>\n",
       "    </tr>\n",
       "  </tbody>\n",
       "</table>\n",
       "<p>380 rows × 4 columns</p>\n",
       "</div>"
      ],
      "text/plain": [
       "               variable_1            variable_2         r     abs_r\n",
       "200                 IDX.1                   IDX  1.000000  1.000000\n",
       "10                    IDX                 IDX.1  1.000000  1.000000\n",
       "257   sum_ndvi_2022-06-17   sum_ndre_2022-06-17  0.999206  0.999206\n",
       "352   sum_ndre_2022-06-17   sum_ndvi_2022-06-17  0.999206  0.999206\n",
       "395   sum_ndre_2022-06-12   sum_ndvi_2022-06-12  0.998884  0.998884\n",
       "..                    ...                   ...       ...       ...\n",
       "40   mean_ndvi_2022-06-17                   IDX  0.023588  0.023588\n",
       "161  mean_ndre_2022-06-07  mean_ndvi_2022-06-02  0.013912  0.013912\n",
       "28   mean_ndvi_2022-06-02  mean_ndre_2022-06-07  0.013912  0.013912\n",
       "282   sum_ndvi_2022-06-22  mean_ndvi_2022-06-17  0.000458  0.000458\n",
       "54   mean_ndvi_2022-06-17   sum_ndvi_2022-06-22  0.000458  0.000458\n",
       "\n",
       "[380 rows x 4 columns]"
      ]
     },
     "metadata": {},
     "output_type": "display_data"
    }
   ],
   "source": [
    "def tidy_corr_matrix(corr_mat):\n",
    "    '''\n",
    "    Función para convertir una matriz de correlación de pandas en formato tidy\n",
    "    '''\n",
    "    corr_mat = corr_mat.stack().reset_index()\n",
    "    corr_mat.columns = ['variable_1','variable_2','r']\n",
    "    corr_mat = corr_mat.loc[corr_mat['variable_1'] != corr_mat['variable_2'], :]\n",
    "    corr_mat['abs_r'] = np.abs(corr_mat['r'])\n",
    "    corr_mat = corr_mat.sort_values('abs_r', ascending=False)\n",
    "    \n",
    "    return(corr_mat)\n",
    "\n",
    "corr_matrix = df.select_dtypes(include=['float64', 'int']).corr(method='pearson')\n",
    "\n",
    "display(tidy_corr_matrix(corr_matrix))"
   ]
  },
  {
   "attachments": {},
   "cell_type": "markdown",
   "metadata": {},
   "source": [
    "### PCA_reg"
   ]
  },
  {
   "cell_type": "code",
   "execution_count": 84,
   "metadata": {},
   "outputs": [],
   "source": [
    "\n",
    "from sklearn.decomposition import PCA\n",
    "from sklearn.pipeline import make_pipeline\n",
    "from sklearn.preprocessing import StandardScaler\n",
    "from sklearn.model_selection import KFold\n",
    "from sklearn.model_selection import GridSearchCV\n",
    "from sklearn.linear_model import LinearRegression\n",
    "from sklearn.model_selection import train_test_split\n",
    "from sklearn.metrics import mean_squared_error\n",
    "import multiprocessing"
   ]
  },
  {
   "cell_type": "code",
   "execution_count": 85,
   "metadata": {},
   "outputs": [],
   "source": [
    "pca_pipe = make_pipeline(StandardScaler(), PCA())\n",
    "\n",
    "pca_pipe.fit(df)\n",
    "\n",
    "modelo_pca = pca_pipe.named_steps['pca']"
   ]
  },
  {
   "cell_type": "code",
   "execution_count": 86,
   "metadata": {},
   "outputs": [
    {
     "data": {
      "image/png": "[encoded data removed]",
      "text/plain": [
       "<Figure size 432x288 with 1 Axes>"
      ]
     },
     "metadata": {
      "needs_background": "light"
     },
     "output_type": "display_data"
    }
   ],
   "source": [
    "fig, ax = plt.subplots(nrows=1, ncols=1, figsize=(6, 4))\n",
    "\n",
    "ax.bar(\n",
    "    x      = np.arange(modelo_pca.n_components_) + 1,\n",
    "    height = modelo_pca.explained_variance_ratio_\n",
    ")\n",
    "\n",
    "for x, y in zip(np.arange(len(df.columns)) + 1, modelo_pca.explained_variance_ratio_):\n",
    "    label = round(y, 2)\n",
    "    ax.annotate(\n",
    "        label,\n",
    "        (x,y),\n",
    "        textcoords=\"offset points\",\n",
    "        xytext=(0,10),\n",
    "        ha='center'\n",
    "    )\n",
    "\n",
    "ax.set_xticks(np.arange(modelo_pca.n_components_) + 1)\n",
    "ax.set_ylim(0, 1.1)\n",
    "ax.set_title('Porcentaje de varianza explicada por cada componente')\n",
    "ax.set_xlabel('Componente principal')\n",
    "ax.set_ylabel('Por. varianza explicada');"
   ]
  },
  {
   "cell_type": "code",
   "execution_count": 87,
   "metadata": {},
   "outputs": [
    {
     "data": {
      "text/plain": [
       "Pipeline(steps=[('standardscaler', StandardScaler()), ('pca', PCA()),\n",
       "                ('linearregression', LinearRegression())])"
      ]
     },
     "execution_count": 87,
     "metadata": {},
     "output_type": "execute_result"
    }
   ],
   "source": [
    "# Entrenamiento modelo de regresión precedido por PCA con escalado\n",
    "\n",
    "pipe_modelado = make_pipeline(StandardScaler(), PCA(), LinearRegression())\n",
    "\n",
    "pipe_modelado.fit(X=X_train, y=y_train)"
   ]
  },
  {
   "cell_type": "code",
   "execution_count": 88,
   "metadata": {},
   "outputs": [
    {
     "data": {
      "text/plain": [
       "<bound method Pipeline.set_params of Pipeline(steps=[('standardscaler', StandardScaler()), ('pca', PCA()),\n",
       "                ('linearregression', LinearRegression())])>"
      ]
     },
     "execution_count": 88,
     "metadata": {},
     "output_type": "execute_result"
    }
   ],
   "source": [
    "pipe_modelado.set_params"
   ]
  },
  {
   "cell_type": "code",
   "execution_count": 89,
   "metadata": {},
   "outputs": [
    {
     "name": "stdout",
     "output_type": "stream",
     "text": [
      "\n",
      "El error (rmse) de test es: 23161.668257269517\n"
     ]
    }
   ],
   "source": [
    "# Predicciones test\n",
    "predicciones = pipe_modelado.predict(X=X_test)\n",
    "predicciones = predicciones.flatten()\n",
    "\n",
    "# Error de test del modelo \n",
    "rmse_pcr = mean_squared_error(\n",
    "\n",
    "            y_true  = y_test,\n",
    "            y_pred  = predicciones,\n",
    "            squared = False\n",
    ")\n",
    "\n",
    "print(\"\")\n",
    "\n",
    "print(f\"El error (rmse) de test es: {rmse_pcr}\")"
   ]
  },
  {
   "cell_type": "code",
   "execution_count": 90,
   "metadata": {},
   "outputs": [],
   "source": [
    "import warnings\n",
    "\n",
    "warnings.filterwarnings('ignore')"
   ]
  },
  {
   "cell_type": "code",
   "execution_count": 91,
   "metadata": {},
   "outputs": [
    {
     "data": {
      "text/html": [
       "<div>\n",
       "<style scoped>\n",
       "    .dataframe tbody tr th:only-of-type {\n",
       "        vertical-align: middle;\n",
       "    }\n",
       "\n",
       "    .dataframe tbody tr th {\n",
       "        vertical-align: top;\n",
       "    }\n",
       "\n",
       "    .dataframe thead th {\n",
       "        text-align: right;\n",
       "    }\n",
       "</style>\n",
       "<table border=\"1\" class=\"dataframe\">\n",
       "  <thead>\n",
       "    <tr style=\"text-align: right;\">\n",
       "      <th></th>\n",
       "      <th>param_pca__n_components</th>\n",
       "      <th>mean_test_score</th>\n",
       "      <th>std_test_score</th>\n",
       "      <th>mean_train_score</th>\n",
       "      <th>std_train_score</th>\n",
       "    </tr>\n",
       "  </thead>\n",
       "  <tbody>\n",
       "    <tr>\n",
       "      <th>3</th>\n",
       "      <td>6</td>\n",
       "      <td>-4008.962109</td>\n",
       "      <td>1175.902367</td>\n",
       "      <td>-3101.094909</td>\n",
       "      <td>253.514638</td>\n",
       "    </tr>\n",
       "    <tr>\n",
       "      <th>1</th>\n",
       "      <td>2</td>\n",
       "      <td>-4113.112191</td>\n",
       "      <td>963.991483</td>\n",
       "      <td>-3817.906030</td>\n",
       "      <td>159.534116</td>\n",
       "    </tr>\n",
       "    <tr>\n",
       "      <th>2</th>\n",
       "      <td>4</td>\n",
       "      <td>-4204.323051</td>\n",
       "      <td>1096.227656</td>\n",
       "      <td>-3508.451517</td>\n",
       "      <td>283.075496</td>\n",
       "    </tr>\n",
       "    <tr>\n",
       "      <th>0</th>\n",
       "      <td>1</td>\n",
       "      <td>-4217.893218</td>\n",
       "      <td>739.222846</td>\n",
       "      <td>-4051.039661</td>\n",
       "      <td>189.573614</td>\n",
       "    </tr>\n",
       "    <tr>\n",
       "      <th>4</th>\n",
       "      <td>8</td>\n",
       "      <td>-4687.197056</td>\n",
       "      <td>1785.019526</td>\n",
       "      <td>-2733.908326</td>\n",
       "      <td>321.662338</td>\n",
       "    </tr>\n",
       "  </tbody>\n",
       "</table>\n",
       "</div>"
      ],
      "text/plain": [
       "  param_pca__n_components  mean_test_score  std_test_score  mean_train_score  \\\n",
       "3                       6     -4008.962109     1175.902367      -3101.094909   \n",
       "1                       2     -4113.112191      963.991483      -3817.906030   \n",
       "2                       4     -4204.323051     1096.227656      -3508.451517   \n",
       "0                       1     -4217.893218      739.222846      -4051.039661   \n",
       "4                       8     -4687.197056     1785.019526      -2733.908326   \n",
       "\n",
       "   std_train_score  \n",
       "3       253.514638  \n",
       "1       159.534116  \n",
       "2       283.075496  \n",
       "0       189.573614  \n",
       "4       321.662338  "
      ]
     },
     "execution_count": 91,
     "metadata": {},
     "output_type": "execute_result"
    }
   ],
   "source": [
    "# Grid de hiperparámetros evaluados\n",
    "param_grid = {'pca__n_components': [1, 2, 4, 6, 8, 10, 15, 20, 30, 50]}\n",
    "\n",
    "# Búsqueda por grid search con validación cruzada\n",
    "grid = GridSearchCV(\n",
    "\n",
    "        estimator  = pipe_modelado,\n",
    "        param_grid = param_grid,\n",
    "        scoring    = 'neg_root_mean_squared_error',\n",
    "        n_jobs     = multiprocessing.cpu_count() - 1,\n",
    "        cv         = KFold(n_splits=5), \n",
    "        refit      = True,\n",
    "        verbose    = 0,\n",
    "        return_train_score = True\n",
    ")\n",
    "\n",
    "grid.fit(X = X_train, y = y_train)\n",
    "\n",
    "resultados = pd.DataFrame(grid.cv_results_)\n",
    "\n",
    "resultados.filter(regex = '(param.*|mean_t|std_t)') \\\n",
    "    .drop(columns = 'params') \\\n",
    "    .sort_values('mean_test_score', ascending = False) \\\n",
    "    .head(5)"
   ]
  },
  {
   "cell_type": "code",
   "execution_count": 92,
   "metadata": {},
   "outputs": [
    {
     "data": {
      "image/png": "[encoded data removed]",
      "text/plain": [
       "<Figure size 504x276.48 with 1 Axes>"
      ]
     },
     "metadata": {
      "needs_background": "light"
     },
     "output_type": "display_data"
    }
   ],
   "source": [
    "# Gráfico resultados validación cruzada para cada hiperparámetro\n",
    "\n",
    "fig, ax = plt.subplots(nrows=1, ncols=1, figsize=(7, 3.84), sharey=True)\n",
    "\n",
    "resultados.plot('param_pca__n_components', 'mean_train_score', ax=ax)\n",
    "resultados.plot('param_pca__n_components', 'mean_test_score', ax=ax)\n",
    "ax.fill_between(resultados.param_pca__n_components.astype(np.float),\n",
    "                resultados['mean_train_score'] + resultados['std_train_score'],\n",
    "                resultados['mean_train_score'] - resultados['std_train_score'],\n",
    "                alpha=0.2)\n",
    "ax.fill_between(resultados.param_pca__n_components.astype(np.float),\n",
    "                resultados['mean_test_score'] + resultados['std_test_score'],\n",
    "                resultados['mean_test_score'] - resultados['std_test_score'],\n",
    "                alpha=0.2)\n",
    "ax.legend()\n",
    "ax.set_title('Evolución del error CV')\n",
    "ax.set_ylabel('neg_root_mean_squared_error');"
   ]
  },
  {
   "cell_type": "code",
   "execution_count": 93,
   "metadata": {},
   "outputs": [],
   "source": [
    "# UTILIZAMOS LA RED NEURONAL ENCONTRADA COMO MODELO FINAL:"
   ]
  },
  {
   "attachments": {},
   "cell_type": "markdown",
   "metadata": {},
   "source": [
    "Finalmente nos quedamos con la red neuronal encontrada como mejor modelo para predecir los kg de producción para un cultivo. "
   ]
  },
  {
   "cell_type": "code",
   "execution_count": 94,
   "metadata": {},
   "outputs": [],
   "source": [
    "import warnings\n",
    "\n",
    "warnings.filterwarnings('ignore')"
   ]
  },
  {
   "cell_type": "code",
   "execution_count": 95,
   "metadata": {},
   "outputs": [],
   "source": [
    "from sklearn.model_selection import cross_val_score\n",
    "from sklearn.preprocessing import StandardScaler\n",
    "from sklearn.datasets import make_classification\n",
    "from sklearn.model_selection import train_test_split\n",
    "from sklearn.pipeline import Pipeline\n",
    "from sklearn import metrics\n",
    "from sklearn.model_selection import KFold"
   ]
  },
  {
   "cell_type": "code",
   "execution_count": 96,
   "metadata": {},
   "outputs": [
    {
     "data": {
      "text/plain": [
       "GridSearchCV(cv=5, estimator=MLPRegressor(), n_jobs=-1,\n",
       "             param_grid={'activation': ['tanh', 'relu'],\n",
       "                         'alpha': [0.0001, 0.05],\n",
       "                         'hidden_layer_sizes': [(150, 100, 50), (120, 80, 40),\n",
       "                                                (100, 50, 30)],\n",
       "                         'learning_rate': ['constant', 'adaptive'],\n",
       "                         'max_iter': [50, 100], 'solver': ['sgd', 'adam']})"
      ]
     },
     "execution_count": 96,
     "metadata": {},
     "output_type": "execute_result"
    }
   ],
   "source": [
    "from sklearn.model_selection import GridSearchCV\n",
    "from sklearn.neural_network import MLPRegressor\n",
    "\n",
    "param_grid = {\n",
    "    \n",
    "    'hidden_layer_sizes': [(150,100,50), (120,80,40), (100,50,30)],\n",
    "    'max_iter': [50, 100],\n",
    "    'activation': ['tanh', 'relu'],\n",
    "    'solver': ['sgd', 'adam'],\n",
    "    'alpha': [0.0001, 0.05],\n",
    "    'learning_rate': ['constant','adaptive'],\n",
    "}\n",
    "\n",
    "grid = GridSearchCV(MLPRegressor(), param_grid, n_jobs= -1, cv=5)\n",
    "\n",
    "grid.fit(X_train, y_train)"
   ]
  },
  {
   "cell_type": "code",
   "execution_count": 97,
   "metadata": {},
   "outputs": [],
   "source": [
    "scaler=StandardScaler()\n",
    "x_train=scaler.fit_transform(X_train)\n",
    "x_test=scaler.transform(X_test)"
   ]
  },
  {
   "cell_type": "code",
   "execution_count": 98,
   "metadata": {},
   "outputs": [],
   "source": [
    "mlp=MLPRegressor(**grid.best_params_)\n",
    "\n",
    "pipeline=Pipeline([('transformer',scaler),('estimator',mlp)])\n",
    "\n",
    "pipeline.fit(X_train,y_train)\n",
    "\n",
    "cv=KFold(n_splits=5)\n",
    "\n",
    "scores_crossval=cross_val_score(pipeline,x_test,y_test,cv=cv)"
   ]
  },
  {
   "cell_type": "code",
   "execution_count": 99,
   "metadata": {},
   "outputs": [],
   "source": [
    "# Score and prediction:\n",
    "\n",
    "score = pipeline.score(X_test, y_test)\n",
    "\n",
    "predicted_y = pipeline.predict(X_test)"
   ]
  },
  {
   "cell_type": "code",
   "execution_count": 100,
   "metadata": {},
   "outputs": [
    {
     "name": "stdout",
     "output_type": "stream",
     "text": [
      "Mean Absolute Error: 8991.64822779183\n",
      "Mean Squared Error: 177974786.52715164\n",
      "Root Mean Squared Error: 13340.719115817994\n"
     ]
    }
   ],
   "source": [
    "from sklearn import metrics\n",
    "\n",
    "print('Mean Absolute Error:', metrics.mean_absolute_error(y_test, predicted_y))  \n",
    "print('Mean Squared Error:', metrics.mean_squared_error(y_test, predicted_y))  \n",
    "print('Root Mean Squared Error:', np.sqrt(metrics.mean_squared_error(y_test, predicted_y)))"
   ]
  }
 ],
 "metadata": {
  "kernelspec": {
   "display_name": "Python 3",
   "language": "python",
   "name": "python3"
  },
  "language_info": {
   "codemirror_mode": {
    "name": "ipython",
    "version": 3
   },
   "file_extension": ".py",
   "mimetype": "text/x-python",
   "name": "python",
   "nbconvert_exporter": "python",
   "pygments_lexer": "ipython3",
   "version": "3.9.0 (tags/v3.9.0:9cf6752, Oct  5 2020, 15:34:40) [MSC v.1927 64 bit (AMD64)]"
  },
  "orig_nbformat": 4,
  "vscode": {
   "interpreter": {
    "hash": "e6a9e0a75812d355defcbb237ff5ccb2d024447cd7cc66eb92cc2759d91ebc09"
   }
  }
 },
 "nbformat": 4,
 "nbformat_minor": 2
}
