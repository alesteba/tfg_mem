{
 "cells": [
  {
   "cell_type": "code",
   "execution_count": 18,
   "metadata": {},
   "outputs": [],
   "source": [
    "# download \n",
    "\n",
    "import urllib.request, urllib.error, urllib.parse\n",
    "\n",
    "url = 'https://alesteba.github.io/tfg/'\n",
    "\n",
    "response = urllib.request.urlopen(url)\n",
    "webContent = response.read().decode('UTF-8')"
   ]
  },
  {
   "cell_type": "code",
   "execution_count": null,
   "metadata": {},
   "outputs": [],
   "source": [
    "# read from web:\n",
    "\n",
    "from bs4 import BeautifulSoup\n",
    "\n",
    "# add domain \n",
    "\n",
    "soup = BeautifulSoup(webContent)"
   ]
  },
  {
   "cell_type": "code",
   "execution_count": 19,
   "metadata": {},
   "outputs": [],
   "source": [
    "\n",
    "for img in soup.findAll('img'):\n",
    "\n",
    "    img['src'] = 'https://raw.githubusercontent.com/alesteba/tfg/main/'+img['src']"
   ]
  },
  {
   "cell_type": "code",
   "execution_count": null,
   "metadata": {},
   "outputs": [],
   "source": [
    "# links with style:\n",
    "\n",
    "for link in soup.findAll('link'):\n",
    "\n",
    "    link['href'] = 'https://raw.githubusercontent.com/alesteba/tfg/main/'+link['href']\n",
    "\n",
    "html_str = str(soup)"
   ]
  },
  {
   "cell_type": "code",
   "execution_count": 20,
   "metadata": {},
   "outputs": [
    {
     "data": {
      "text/plain": [
       "<function TextIOWrapper.close()>"
      ]
     },
     "execution_count": 20,
     "metadata": {},
     "output_type": "execute_result"
    }
   ],
   "source": [
    "f = open('test.html', 'w')\n",
    "f.write(html_str)\n",
    "f.close"
   ]
  },
  {
   "cell_type": "code",
   "execution_count": 21,
   "metadata": {},
   "outputs": [],
   "source": [
    "import os\n",
    "\n",
    "from bs4 import BeautifulSoup"
   ]
  },
  {
   "cell_type": "code",
   "execution_count": 22,
   "metadata": {},
   "outputs": [],
   "source": [
    "def guess_type(filepath):\n",
    "\n",
    "    try:\n",
    "        import magic  # python-magic\n",
    "        return magic.from_file(filepath, mime=True)\n",
    "    \n",
    "    except ImportError:\n",
    "        import mimetypes\n",
    "        return mimetypes.guess_type(filepath)[0]"
   ]
  },
  {
   "cell_type": "code",
   "execution_count": 23,
   "metadata": {},
   "outputs": [],
   "source": [
    "def file_to_base64(filepath):\n",
    "\n",
    "    import base64\n",
    "    import validators\n",
    "    import urllib\n",
    "\n",
    "    if (validators.url(filepath)):\n",
    "\n",
    "        with urllib.request.urlopen(filepath) as f:\n",
    "\n",
    "            encoded_str = base64.b64encode(f.read())\n",
    "\n",
    "        return encoded_str.decode('utf-8')\n",
    "\n",
    "    else:\n",
    "\n",
    "        with open(filepath, 'rb') as f:\n",
    "\n",
    "            encoded_str = base64.b64encode(f.read())\n",
    "\n",
    "        return encoded_str.decode('utf-8')\n"
   ]
  },
  {
   "cell_type": "code",
   "execution_count": null,
   "metadata": {},
   "outputs": [],
   "source": [
    "# add inline style: "
   ]
  },
  {
   "cell_type": "code",
   "execution_count": 24,
   "metadata": {},
   "outputs": [],
   "source": [
    "\n",
    "def make_html_images_inline(in_filepath, out_filepath):\n",
    "\n",
    "    basepath = os.path.split(in_filepath.rstrip(os.path.sep))[0]\n",
    "    soup = BeautifulSoup(open(in_filepath, 'r'), 'html.parser')\n",
    "\n",
    "    for img in soup.find_all('img'):\n",
    "        img_path = os.path.join(basepath, img.attrs['src'])\n",
    "        mimetype = guess_type(img_path)\n",
    "        img.attrs['src'] = \\\n",
    "            \"data:%s;base64,%s\" % (mimetype, file_to_base64(img_path))\n",
    "\n",
    "    with open(out_filepath, 'w') as of:\n",
    "        of.write(str(soup))\n",
    "\n",
    "    return str(soup)"
   ]
  },
  {
   "cell_type": "code",
   "execution_count": 25,
   "metadata": {},
   "outputs": [],
   "source": [
    "html = make_html_images_inline('test.html', 'out.html')"
   ]
  },
  {
   "cell_type": "code",
   "execution_count": null,
   "metadata": {},
   "outputs": [],
   "source": []
  },
  {
   "cell_type": "code",
   "execution_count": null,
   "metadata": {},
   "outputs": [],
   "source": [
    "f = open(\"publish/style_2.css\", \"r\")\n",
    "\n",
    "css_style = f.read()"
   ]
  },
  {
   "cell_type": "code",
   "execution_count": null,
   "metadata": {},
   "outputs": [],
   "source": [
    "soup = BeautifulSoup(html)\n",
    "\n",
    "new_div = soup.new_tag(\"style\")\n",
    "  \n",
    "# Adding content to div\n",
    "new_div.string = css_style\n",
    "\n",
    "# soup.html.head.insert(1, new_div)"
   ]
  },
  {
   "cell_type": "code",
   "execution_count": null,
   "metadata": {},
   "outputs": [],
   "source": [
    "for link in soup.findAll('figure'):\n",
    "\n",
    "    link['style'] = \"max-width: 90%;max-height: 100%; display: block; margin-left: auto; margin-right: auto;\""
   ]
  },
  {
   "cell_type": "code",
   "execution_count": null,
   "metadata": {},
   "outputs": [],
   "source": [
    "f = open('html2.html', 'w')\n",
    "f.write(str(soup))\n",
    "f.close"
   ]
  },
  {
   "cell_type": "code",
   "execution_count": 26,
   "metadata": {},
   "outputs": [
    {
     "ename": "ModuleNotFoundError",
     "evalue": "No module named 'pdfkit'",
     "output_type": "error",
     "traceback": [
      "\u001b[1;31m---------------------------------------------------------------------------\u001b[0m",
      "\u001b[1;31mModuleNotFoundError\u001b[0m                       Traceback (most recent call last)",
      "\u001b[1;32mh:\\UR\\TFG\\txt_mem_clean\\_k.pcs.zen\\automate_pdf.ipynb Cell 9\u001b[0m in \u001b[0;36m<cell line: 3>\u001b[1;34m()\u001b[0m\n\u001b[0;32m      <a href='vscode-notebook-cell:/h%3A/UR/TFG/txt_mem_clean/_k.pcs.zen/automate_pdf.ipynb#X12sZmlsZQ%3D%3D?line=0'>1</a>\u001b[0m \u001b[39m# transform file with pdfkit:\u001b[39;00m\n\u001b[1;32m----> <a href='vscode-notebook-cell:/h%3A/UR/TFG/txt_mem_clean/_k.pcs.zen/automate_pdf.ipynb#X12sZmlsZQ%3D%3D?line=2'>3</a>\u001b[0m \u001b[39mimport\u001b[39;00m \u001b[39mpdfkit\u001b[39;00m\n\u001b[0;32m      <a href='vscode-notebook-cell:/h%3A/UR/TFG/txt_mem_clean/_k.pcs.zen/automate_pdf.ipynb#X12sZmlsZQ%3D%3D?line=4'>5</a>\u001b[0m pdfkit\u001b[39m.\u001b[39mfrom_string(html, \u001b[39m'\u001b[39m\u001b[39mshaurya.pdf\u001b[39m\u001b[39m'\u001b[39m, options\u001b[39m=\u001b[39m{\u001b[39m\"\u001b[39m\u001b[39menable-local-file-access\u001b[39m\u001b[39m\"\u001b[39m: \u001b[39m\"\u001b[39m\u001b[39m\"\u001b[39m})\n",
      "\u001b[1;31mModuleNotFoundError\u001b[0m: No module named 'pdfkit'"
     ]
    }
   ],
   "source": [
    "# transform file with pdfkit:\n",
    "\n",
    "import pdfkit\n",
    "\n",
    "# css = ['publish/body.css', 'publish/style.css']\n",
    "\n",
    "# pdfkit.from_string(html, 'shaurya.pdf', options={\"enable-local-file-access\": \"\"}, css=css)\n",
    "\n",
    "pdfkit.from_string(str(soup), 'shaurya.pdf')"
   ]
  }
 ],
 "metadata": {
  "kernelspec": {
   "display_name": "Python 3",
   "language": "python",
   "name": "python3"
  },
  "language_info": {
   "codemirror_mode": {
    "name": "ipython",
    "version": 3
   },
   "file_extension": ".py",
   "mimetype": "text/x-python",
   "name": "python",
   "nbconvert_exporter": "python",
   "pygments_lexer": "ipython3",
   "version": "3.9.0"
  },
  "orig_nbformat": 4,
  "vscode": {
   "interpreter": {
    "hash": "9650cb4e16cdd4a8e8e2d128bf38d875813998db22a3c986335f89e0cb4d7bb2"
   }
  }
 },
 "nbformat": 4,
 "nbformat_minor": 2
}
