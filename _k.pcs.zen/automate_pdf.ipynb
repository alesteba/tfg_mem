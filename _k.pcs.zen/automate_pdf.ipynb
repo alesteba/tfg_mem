{
 "cells": [
  {
   "cell_type": "code",
   "execution_count": 108,
   "metadata": {},
   "outputs": [],
   "source": [
    "# download \n",
    "\n",
    "import urllib.request, urllib.error, urllib.parse\n",
    "\n",
    "url = 'https://alesteba.github.io/tfg/'\n",
    "\n",
    "response = urllib.request.urlopen(url)\n",
    "\n",
    "webContent = response.read().decode('UTF-8')"
   ]
  },
  {
   "cell_type": "code",
   "execution_count": 109,
   "metadata": {},
   "outputs": [],
   "source": [
    "# read from web:\n",
    "\n",
    "from bs4 import BeautifulSoup\n",
    "\n",
    "# add domain \n",
    "\n",
    "soup = BeautifulSoup(webContent)"
   ]
  },
  {
   "cell_type": "code",
   "execution_count": 110,
   "metadata": {},
   "outputs": [],
   "source": [
    "\n",
    "for img in soup.findAll('img'):\n",
    "\n",
    "    img['src'] = 'https://raw.githubusercontent.com/alesteba/tfg/main/'+img['src']"
   ]
  },
  {
   "cell_type": "code",
   "execution_count": 111,
   "metadata": {},
   "outputs": [],
   "source": [
    "# links with style:\n",
    "\n",
    "for link in soup.findAll('link'):\n",
    "\n",
    "    link['href'] = 'https://raw.githubusercontent.com/alesteba/tfg/main/'+link['href']\n",
    "\n",
    "html_str = str(soup)"
   ]
  },
  {
   "cell_type": "code",
   "execution_count": 112,
   "metadata": {},
   "outputs": [
    {
     "data": {
      "text/plain": [
       "<function TextIOWrapper.close()>"
      ]
     },
     "execution_count": 112,
     "metadata": {},
     "output_type": "execute_result"
    }
   ],
   "source": [
    "f = open('test.html', 'w')\n",
    "f.write(html_str)\n",
    "f.close"
   ]
  },
  {
   "cell_type": "code",
   "execution_count": 113,
   "metadata": {},
   "outputs": [],
   "source": [
    "import os\n",
    "\n",
    "from bs4 import BeautifulSoup"
   ]
  },
  {
   "cell_type": "code",
   "execution_count": 114,
   "metadata": {},
   "outputs": [],
   "source": [
    "def guess_type(filepath):\n",
    "\n",
    "    try:\n",
    "        import magic  # python-magic\n",
    "        return magic.from_file(filepath, mime=True)\n",
    "    \n",
    "    except ImportError:\n",
    "        import mimetypes\n",
    "        return mimetypes.guess_type(filepath)[0]"
   ]
  },
  {
   "cell_type": "code",
   "execution_count": 115,
   "metadata": {},
   "outputs": [],
   "source": [
    "def file_to_base64(filepath):\n",
    "\n",
    "    import base64\n",
    "    import validators\n",
    "    import urllib\n",
    "\n",
    "    if (validators.url(filepath)):\n",
    "\n",
    "        with urllib.request.urlopen(filepath) as f:\n",
    "\n",
    "            encoded_str = base64.b64encode(f.read())\n",
    "\n",
    "        return encoded_str.decode('utf-8')\n",
    "\n",
    "    else:\n",
    "\n",
    "        with open(filepath, 'rb') as f:\n",
    "\n",
    "            encoded_str = base64.b64encode(f.read())\n",
    "\n",
    "        return encoded_str.decode('utf-8')\n"
   ]
  },
  {
   "cell_type": "code",
   "execution_count": 116,
   "metadata": {},
   "outputs": [],
   "source": [
    "# add inline style: "
   ]
  },
  {
   "cell_type": "code",
   "execution_count": 117,
   "metadata": {},
   "outputs": [],
   "source": [
    "\n",
    "def make_html_images_inline(in_filepath, out_filepath):\n",
    "\n",
    "    basepath = os.path.split(in_filepath.rstrip(os.path.sep))[0]\n",
    "    soup = BeautifulSoup(open(in_filepath, 'r'), 'html.parser')\n",
    "\n",
    "    for img in soup.find_all('img'):\n",
    "        img_path = os.path.join(basepath, img.attrs['src'])\n",
    "        mimetype = guess_type(img_path)\n",
    "        img.attrs['src'] = \\\n",
    "            \"data:%s;base64,%s\" % (mimetype, file_to_base64(img_path))\n",
    "\n",
    "    with open(out_filepath, 'w') as of:\n",
    "        of.write(str(soup))\n",
    "\n",
    "    return str(soup)"
   ]
  },
  {
   "cell_type": "code",
   "execution_count": 119,
   "metadata": {},
   "outputs": [
    {
     "ename": "HTTPError",
     "evalue": "HTTP Error 404: Not Found",
     "output_type": "error",
     "traceback": [
      "\u001b[1;31m---------------------------------------------------------------------------\u001b[0m",
      "\u001b[1;31mHTTPError\u001b[0m                                 Traceback (most recent call last)",
      "\u001b[1;32mh:\\UR\\TFG\\txt_mem_clean\\_k.pcs.zen\\automate_pdf.ipynb Cell 11\u001b[0m in \u001b[0;36m<cell line: 1>\u001b[1;34m()\u001b[0m\n\u001b[1;32m----> <a href='vscode-notebook-cell:/h%3A/UR/TFG/txt_mem_clean/_k.pcs.zen/automate_pdf.ipynb#X13sZmlsZQ%3D%3D?line=0'>1</a>\u001b[0m html \u001b[39m=\u001b[39m make_html_images_inline(\u001b[39m'\u001b[39;49m\u001b[39mtest.html\u001b[39;49m\u001b[39m'\u001b[39;49m, \u001b[39m'\u001b[39;49m\u001b[39mout.html\u001b[39;49m\u001b[39m'\u001b[39;49m)\n",
      "\u001b[1;32mh:\\UR\\TFG\\txt_mem_clean\\_k.pcs.zen\\automate_pdf.ipynb Cell 11\u001b[0m in \u001b[0;36mmake_html_images_inline\u001b[1;34m(in_filepath, out_filepath)\u001b[0m\n\u001b[0;32m      <a href='vscode-notebook-cell:/h%3A/UR/TFG/txt_mem_clean/_k.pcs.zen/automate_pdf.ipynb#X13sZmlsZQ%3D%3D?line=6'>7</a>\u001b[0m     img_path \u001b[39m=\u001b[39m os\u001b[39m.\u001b[39mpath\u001b[39m.\u001b[39mjoin(basepath, img\u001b[39m.\u001b[39mattrs[\u001b[39m'\u001b[39m\u001b[39msrc\u001b[39m\u001b[39m'\u001b[39m])\n\u001b[0;32m      <a href='vscode-notebook-cell:/h%3A/UR/TFG/txt_mem_clean/_k.pcs.zen/automate_pdf.ipynb#X13sZmlsZQ%3D%3D?line=7'>8</a>\u001b[0m     mimetype \u001b[39m=\u001b[39m guess_type(img_path)\n\u001b[0;32m      <a href='vscode-notebook-cell:/h%3A/UR/TFG/txt_mem_clean/_k.pcs.zen/automate_pdf.ipynb#X13sZmlsZQ%3D%3D?line=8'>9</a>\u001b[0m     img\u001b[39m.\u001b[39mattrs[\u001b[39m'\u001b[39m\u001b[39msrc\u001b[39m\u001b[39m'\u001b[39m] \u001b[39m=\u001b[39m \\\n\u001b[1;32m---> <a href='vscode-notebook-cell:/h%3A/UR/TFG/txt_mem_clean/_k.pcs.zen/automate_pdf.ipynb#X13sZmlsZQ%3D%3D?line=9'>10</a>\u001b[0m         \u001b[39m\"\u001b[39m\u001b[39mdata:\u001b[39m\u001b[39m%s\u001b[39;00m\u001b[39m;base64,\u001b[39m\u001b[39m%s\u001b[39;00m\u001b[39m\"\u001b[39m \u001b[39m%\u001b[39m (mimetype, file_to_base64(img_path))\n\u001b[0;32m     <a href='vscode-notebook-cell:/h%3A/UR/TFG/txt_mem_clean/_k.pcs.zen/automate_pdf.ipynb#X13sZmlsZQ%3D%3D?line=11'>12</a>\u001b[0m \u001b[39mwith\u001b[39;00m \u001b[39mopen\u001b[39m(out_filepath, \u001b[39m'\u001b[39m\u001b[39mw\u001b[39m\u001b[39m'\u001b[39m) \u001b[39mas\u001b[39;00m of:\n\u001b[0;32m     <a href='vscode-notebook-cell:/h%3A/UR/TFG/txt_mem_clean/_k.pcs.zen/automate_pdf.ipynb#X13sZmlsZQ%3D%3D?line=12'>13</a>\u001b[0m     of\u001b[39m.\u001b[39mwrite(\u001b[39mstr\u001b[39m(soup))\n",
      "\u001b[1;32mh:\\UR\\TFG\\txt_mem_clean\\_k.pcs.zen\\automate_pdf.ipynb Cell 11\u001b[0m in \u001b[0;36mfile_to_base64\u001b[1;34m(filepath)\u001b[0m\n\u001b[0;32m      <a href='vscode-notebook-cell:/h%3A/UR/TFG/txt_mem_clean/_k.pcs.zen/automate_pdf.ipynb#X13sZmlsZQ%3D%3D?line=4'>5</a>\u001b[0m \u001b[39mimport\u001b[39;00m \u001b[39murllib\u001b[39;00m\n\u001b[0;32m      <a href='vscode-notebook-cell:/h%3A/UR/TFG/txt_mem_clean/_k.pcs.zen/automate_pdf.ipynb#X13sZmlsZQ%3D%3D?line=6'>7</a>\u001b[0m \u001b[39mif\u001b[39;00m (validators\u001b[39m.\u001b[39murl(filepath)):\n\u001b[1;32m----> <a href='vscode-notebook-cell:/h%3A/UR/TFG/txt_mem_clean/_k.pcs.zen/automate_pdf.ipynb#X13sZmlsZQ%3D%3D?line=8'>9</a>\u001b[0m     \u001b[39mwith\u001b[39;00m urllib\u001b[39m.\u001b[39;49mrequest\u001b[39m.\u001b[39;49murlopen(filepath) \u001b[39mas\u001b[39;00m f:\n\u001b[0;32m     <a href='vscode-notebook-cell:/h%3A/UR/TFG/txt_mem_clean/_k.pcs.zen/automate_pdf.ipynb#X13sZmlsZQ%3D%3D?line=10'>11</a>\u001b[0m         encoded_str \u001b[39m=\u001b[39m base64\u001b[39m.\u001b[39mb64encode(f\u001b[39m.\u001b[39mread())\n\u001b[0;32m     <a href='vscode-notebook-cell:/h%3A/UR/TFG/txt_mem_clean/_k.pcs.zen/automate_pdf.ipynb#X13sZmlsZQ%3D%3D?line=12'>13</a>\u001b[0m     \u001b[39mreturn\u001b[39;00m encoded_str\u001b[39m.\u001b[39mdecode(\u001b[39m'\u001b[39m\u001b[39mutf-8\u001b[39m\u001b[39m'\u001b[39m)\n",
      "File \u001b[1;32mc:\\Users\\Alberto-PC\\AppData\\Local\\Programs\\Python\\Python39\\lib\\urllib\\request.py:214\u001b[0m, in \u001b[0;36murlopen\u001b[1;34m(url, data, timeout, cafile, capath, cadefault, context)\u001b[0m\n\u001b[0;32m    212\u001b[0m \u001b[39melse\u001b[39;00m:\n\u001b[0;32m    213\u001b[0m     opener \u001b[39m=\u001b[39m _opener\n\u001b[1;32m--> 214\u001b[0m \u001b[39mreturn\u001b[39;00m opener\u001b[39m.\u001b[39;49mopen(url, data, timeout)\n",
      "File \u001b[1;32mc:\\Users\\Alberto-PC\\AppData\\Local\\Programs\\Python\\Python39\\lib\\urllib\\request.py:523\u001b[0m, in \u001b[0;36mOpenerDirector.open\u001b[1;34m(self, fullurl, data, timeout)\u001b[0m\n\u001b[0;32m    521\u001b[0m \u001b[39mfor\u001b[39;00m processor \u001b[39min\u001b[39;00m \u001b[39mself\u001b[39m\u001b[39m.\u001b[39mprocess_response\u001b[39m.\u001b[39mget(protocol, []):\n\u001b[0;32m    522\u001b[0m     meth \u001b[39m=\u001b[39m \u001b[39mgetattr\u001b[39m(processor, meth_name)\n\u001b[1;32m--> 523\u001b[0m     response \u001b[39m=\u001b[39m meth(req, response)\n\u001b[0;32m    525\u001b[0m \u001b[39mreturn\u001b[39;00m response\n",
      "File \u001b[1;32mc:\\Users\\Alberto-PC\\AppData\\Local\\Programs\\Python\\Python39\\lib\\urllib\\request.py:632\u001b[0m, in \u001b[0;36mHTTPErrorProcessor.http_response\u001b[1;34m(self, request, response)\u001b[0m\n\u001b[0;32m    629\u001b[0m \u001b[39m# According to RFC 2616, \"2xx\" code indicates that the client's\u001b[39;00m\n\u001b[0;32m    630\u001b[0m \u001b[39m# request was successfully received, understood, and accepted.\u001b[39;00m\n\u001b[0;32m    631\u001b[0m \u001b[39mif\u001b[39;00m \u001b[39mnot\u001b[39;00m (\u001b[39m200\u001b[39m \u001b[39m<\u001b[39m\u001b[39m=\u001b[39m code \u001b[39m<\u001b[39m \u001b[39m300\u001b[39m):\n\u001b[1;32m--> 632\u001b[0m     response \u001b[39m=\u001b[39m \u001b[39mself\u001b[39;49m\u001b[39m.\u001b[39;49mparent\u001b[39m.\u001b[39;49merror(\n\u001b[0;32m    633\u001b[0m         \u001b[39m'\u001b[39;49m\u001b[39mhttp\u001b[39;49m\u001b[39m'\u001b[39;49m, request, response, code, msg, hdrs)\n\u001b[0;32m    635\u001b[0m \u001b[39mreturn\u001b[39;00m response\n",
      "File \u001b[1;32mc:\\Users\\Alberto-PC\\AppData\\Local\\Programs\\Python\\Python39\\lib\\urllib\\request.py:561\u001b[0m, in \u001b[0;36mOpenerDirector.error\u001b[1;34m(self, proto, *args)\u001b[0m\n\u001b[0;32m    559\u001b[0m \u001b[39mif\u001b[39;00m http_err:\n\u001b[0;32m    560\u001b[0m     args \u001b[39m=\u001b[39m (\u001b[39mdict\u001b[39m, \u001b[39m'\u001b[39m\u001b[39mdefault\u001b[39m\u001b[39m'\u001b[39m, \u001b[39m'\u001b[39m\u001b[39mhttp_error_default\u001b[39m\u001b[39m'\u001b[39m) \u001b[39m+\u001b[39m orig_args\n\u001b[1;32m--> 561\u001b[0m     \u001b[39mreturn\u001b[39;00m \u001b[39mself\u001b[39;49m\u001b[39m.\u001b[39;49m_call_chain(\u001b[39m*\u001b[39;49margs)\n",
      "File \u001b[1;32mc:\\Users\\Alberto-PC\\AppData\\Local\\Programs\\Python\\Python39\\lib\\urllib\\request.py:494\u001b[0m, in \u001b[0;36mOpenerDirector._call_chain\u001b[1;34m(self, chain, kind, meth_name, *args)\u001b[0m\n\u001b[0;32m    492\u001b[0m \u001b[39mfor\u001b[39;00m handler \u001b[39min\u001b[39;00m handlers:\n\u001b[0;32m    493\u001b[0m     func \u001b[39m=\u001b[39m \u001b[39mgetattr\u001b[39m(handler, meth_name)\n\u001b[1;32m--> 494\u001b[0m     result \u001b[39m=\u001b[39m func(\u001b[39m*\u001b[39;49margs)\n\u001b[0;32m    495\u001b[0m     \u001b[39mif\u001b[39;00m result \u001b[39mis\u001b[39;00m \u001b[39mnot\u001b[39;00m \u001b[39mNone\u001b[39;00m:\n\u001b[0;32m    496\u001b[0m         \u001b[39mreturn\u001b[39;00m result\n",
      "File \u001b[1;32mc:\\Users\\Alberto-PC\\AppData\\Local\\Programs\\Python\\Python39\\lib\\urllib\\request.py:641\u001b[0m, in \u001b[0;36mHTTPDefaultErrorHandler.http_error_default\u001b[1;34m(self, req, fp, code, msg, hdrs)\u001b[0m\n\u001b[0;32m    640\u001b[0m \u001b[39mdef\u001b[39;00m \u001b[39mhttp_error_default\u001b[39m(\u001b[39mself\u001b[39m, req, fp, code, msg, hdrs):\n\u001b[1;32m--> 641\u001b[0m     \u001b[39mraise\u001b[39;00m HTTPError(req\u001b[39m.\u001b[39mfull_url, code, msg, hdrs, fp)\n",
      "\u001b[1;31mHTTPError\u001b[0m: HTTP Error 404: Not Found"
     ]
    }
   ],
   "source": [
    "html = make_html_images_inline('test.html', 'out.html')"
   ]
  },
  {
   "cell_type": "code",
   "execution_count": null,
   "metadata": {},
   "outputs": [],
   "source": [
    "f = open(\"publish/style_2.css\", \"r\")\n",
    "\n",
    "css_style = f.read()"
   ]
  },
  {
   "cell_type": "code",
   "execution_count": null,
   "metadata": {},
   "outputs": [],
   "source": [
    "soup = BeautifulSoup(html)\n",
    "\n",
    "# new_div = soup.new_tag(\"style\")\n",
    "  \n",
    "# # Adding content to div\n",
    "# new_div.string = css_style\n",
    "\n",
    "# soup.html.head.insert(1, new_div)"
   ]
  },
  {
   "cell_type": "code",
   "execution_count": null,
   "metadata": {},
   "outputs": [],
   "source": [
    "new_tag = soup.new_tag(\"figure\")\n",
    "\n",
    "for img_tag in soup.findAll('img'):\n",
    "\n",
    "    img_tag['style'] = \"display: block\" \n",
    "\n",
    "    img_tag.wrap(soup.new_tag(\"figure\"))"
   ]
  },
  {
   "cell_type": "code",
   "execution_count": null,
   "metadata": {},
   "outputs": [],
   "source": [
    "for link in soup.findAll('figure'):\n",
    "\n",
    "    link['style'] = \"max-width: 90%;max-height: 100%; display: block; margin-left: auto; margin-right: auto;\""
   ]
  },
  {
   "cell_type": "code",
   "execution_count": null,
   "metadata": {},
   "outputs": [],
   "source": [
    "f = open('html2.html', 'w')\n",
    "f.write(str(soup))\n",
    "f.close"
   ]
  },
  {
   "cell_type": "code",
   "execution_count": null,
   "metadata": {},
   "outputs": [
    {
     "ename": "ModuleNotFoundError",
     "evalue": "No module named 'pdfkit'",
     "output_type": "error",
     "traceback": [
      "\u001b[1;31m---------------------------------------------------------------------------\u001b[0m",
      "\u001b[1;31mModuleNotFoundError\u001b[0m                       Traceback (most recent call last)",
      "\u001b[1;32mh:\\UR\\TFG\\txt_mem_clean\\_k.pcs.zen\\automate_pdf.ipynb Cell 9\u001b[0m in \u001b[0;36m<cell line: 3>\u001b[1;34m()\u001b[0m\n\u001b[0;32m      <a href='vscode-notebook-cell:/h%3A/UR/TFG/txt_mem_clean/_k.pcs.zen/automate_pdf.ipynb#X12sZmlsZQ%3D%3D?line=0'>1</a>\u001b[0m \u001b[39m# transform file with pdfkit:\u001b[39;00m\n\u001b[1;32m----> <a href='vscode-notebook-cell:/h%3A/UR/TFG/txt_mem_clean/_k.pcs.zen/automate_pdf.ipynb#X12sZmlsZQ%3D%3D?line=2'>3</a>\u001b[0m \u001b[39mimport\u001b[39;00m \u001b[39mpdfkit\u001b[39;00m\n\u001b[0;32m      <a href='vscode-notebook-cell:/h%3A/UR/TFG/txt_mem_clean/_k.pcs.zen/automate_pdf.ipynb#X12sZmlsZQ%3D%3D?line=4'>5</a>\u001b[0m pdfkit\u001b[39m.\u001b[39mfrom_string(html, \u001b[39m'\u001b[39m\u001b[39mshaurya.pdf\u001b[39m\u001b[39m'\u001b[39m, options\u001b[39m=\u001b[39m{\u001b[39m\"\u001b[39m\u001b[39menable-local-file-access\u001b[39m\u001b[39m\"\u001b[39m: \u001b[39m\"\u001b[39m\u001b[39m\"\u001b[39m})\n",
      "\u001b[1;31mModuleNotFoundError\u001b[0m: No module named 'pdfkit'"
     ]
    }
   ],
   "source": [
    "#transform file with pdfkit:\n",
    "\n",
    "import pdfkit\n",
    "\n",
    "# css = ['publish/body.css', 'publish/style.css']\n",
    "\n",
    "# pdfkit.from_string(html, 'shaurya.pdf', options={\"enable-local-file-access\": \"\"}, css=css)\n",
    "\n",
    "pdfkit.from_string(str(soup), 'shaurya.pdf')"
   ]
  }
 ],
 "metadata": {
  "kernelspec": {
   "display_name": "Python 3",
   "language": "python",
   "name": "python3"
  },
  "language_info": {
   "codemirror_mode": {
    "name": "ipython",
    "version": 3
   },
   "file_extension": ".py",
   "mimetype": "text/x-python",
   "name": "python",
   "nbconvert_exporter": "python",
   "pygments_lexer": "ipython3",
   "version": "3.9.0"
  },
  "orig_nbformat": 4,
  "vscode": {
   "interpreter": {
    "hash": "9650cb4e16cdd4a8e8e2d128bf38d875813998db22a3c986335f89e0cb4d7bb2"
   }
  }
 },
 "nbformat": 4,
 "nbformat_minor": 2
}
