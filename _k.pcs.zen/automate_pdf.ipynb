{
 "cells": [
  {
   "cell_type": "code",
   "execution_count": null,
   "metadata": {},
   "outputs": [],
   "source": [
    "# download \n",
    "\n",
    "import urllib.request, urllib.error, urllib.parse\n",
    "\n",
    "url = 'https://alesteba.github.io/tfg/'\n",
    "\n",
    "response = urllib.request.urlopen(url)\n",
    "webContent = response.read().decode('UTF-8')"
   ]
  },
  {
   "cell_type": "code",
   "execution_count": null,
   "metadata": {},
   "outputs": [],
   "source": [
    "# read from web:\n",
    "\n",
    "from bs4 import BeautifulSoup\n",
    "\n",
    "# add domain \n",
    "\n",
    "soup = BeautifulSoup(webContent)\n",
    "\n",
    "for img in soup.findAll('img'):\n",
    "\n",
    "    img['src'] = 'https://raw.githubusercontent.com/alesteba/tfg/main/'+img['src']\n",
    "\n",
    "html_str = str(soup)"
   ]
  },
  {
   "cell_type": "code",
   "execution_count": null,
   "metadata": {},
   "outputs": [],
   "source": [
    "f = open('test.html', 'w')\n",
    "f.write(html_str)\n",
    "f.close"
   ]
  },
  {
   "cell_type": "code",
   "execution_count": null,
   "metadata": {},
   "outputs": [],
   "source": [
    "import os\n",
    "\n",
    "from bs4 import BeautifulSoup"
   ]
  },
  {
   "cell_type": "code",
   "execution_count": null,
   "metadata": {},
   "outputs": [],
   "source": [
    "def guess_type(filepath):\n",
    "\n",
    "    try:\n",
    "        import magic  # python-magic\n",
    "        return magic.from_file(filepath, mime=True)\n",
    "    \n",
    "    except ImportError:\n",
    "        import mimetypes\n",
    "        return mimetypes.guess_type(filepath)[0]"
   ]
  },
  {
   "cell_type": "code",
   "execution_count": null,
   "metadata": {},
   "outputs": [],
   "source": [
    "def file_to_base64(filepath):\n",
    "\n",
    "    import base64\n",
    "    import validators\n",
    "    import urllib\n",
    "\n",
    "    if (validators.url(filepath)):\n",
    "\n",
    "        with urllib.request.urlopen(filepath) as f:\n",
    "\n",
    "            encoded_str = base64.b64encode(f.read())\n",
    "\n",
    "        return encoded_str.decode('utf-8')\n",
    "\n",
    "    else:\n",
    "\n",
    "        with open(filepath, 'rb') as f:\n",
    "\n",
    "            encoded_str = base64.b64encode(f.read())\n",
    "\n",
    "        return encoded_str.decode('utf-8')\n"
   ]
  },
  {
   "cell_type": "code",
   "execution_count": null,
   "metadata": {},
   "outputs": [],
   "source": [
    "\n",
    "def make_html_images_inline(in_filepath, out_filepath):\n",
    "\n",
    "    basepath = os.path.split(in_filepath.rstrip(os.path.sep))[0]\n",
    "    soup = BeautifulSoup(open(in_filepath, 'r'), 'html.parser')\n",
    "    for img in soup.find_all('img'):\n",
    "        img_path = os.path.join(basepath, img.attrs['src'])\n",
    "        mimetype = guess_type(img_path)\n",
    "        img.attrs['src'] = \\\n",
    "            \"data:%s;base64,%s\" % (mimetype, file_to_base64(img_path))\n",
    "\n",
    "    with open(out_filepath, 'w') as of:\n",
    "        of.write(str(soup))"
   ]
  },
  {
   "cell_type": "code",
   "execution_count": null,
   "metadata": {},
   "outputs": [],
   "source": [
    "make_html_images_inline('test.html', 'out.html')"
   ]
  },
  {
   "cell_type": "code",
   "execution_count": null,
   "metadata": {},
   "outputs": [],
   "source": [
    "# transform file with pdfkit:\n",
    "\n",
    "import pdfkit\n",
    "\n",
    "pdfkit.from_file('out.html','shaurya.pdf')"
   ]
  }
 ],
 "metadata": {
  "kernelspec": {
   "display_name": "Python 3",
   "language": "python",
   "name": "python3"
  },
  "language_info": {
   "codemirror_mode": {
    "name": "ipython",
    "version": 3
   },
   "file_extension": ".py",
   "mimetype": "text/x-python",
   "name": "python",
   "nbconvert_exporter": "python",
   "pygments_lexer": "ipython3",
   "version": "3.10.6"
  },
  "orig_nbformat": 4,
  "vscode": {
   "interpreter": {
    "hash": "9650cb4e16cdd4a8e8e2d128bf38d875813998db22a3c986335f89e0cb4d7bb2"
   }
  }
 },
 "nbformat": 4,
 "nbformat_minor": 2
}
