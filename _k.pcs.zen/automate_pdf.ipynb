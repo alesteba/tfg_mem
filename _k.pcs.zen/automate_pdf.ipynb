{
 "cells": [
  {
   "cell_type": "code",
   "execution_count": 1,
   "metadata": {},
   "outputs": [],
   "source": [
    "import pdfkit\n",
    "\n",
    "# pdfkit.from_file('./test.html', 'out.pdf')"
   ]
  },
  {
   "cell_type": "code",
   "execution_count": null,
   "metadata": {},
   "outputs": [],
   "source": [
    "# read from web:"
   ]
  },
  {
   "cell_type": "code",
   "execution_count": null,
   "metadata": {},
   "outputs": [],
   "source": [
    "import urllib.request\n",
    "\n",
    "opener = urllib.request.FancyURLopener({})\n",
    "url = \"https://alesteba.github.io/tfg/\"\n",
    "f = opener.open(url)\n",
    "content = f.read()"
   ]
  },
  {
   "cell_type": "code",
   "execution_count": 2,
   "metadata": {},
   "outputs": [
    {
     "ename": "OSError",
     "evalue": "wkhtmltopdf reported an error:\nQNetworkReplyImplPrivate::error: Internal problem, this method must only be called once.\nExit with code 1 due to network error: ProtocolUnknownError\n",
     "output_type": "error",
     "traceback": [
      "\u001b[0;31m---------------------------------------------------------------------------\u001b[0m",
      "\u001b[0;31mOSError\u001b[0m                                   Traceback (most recent call last)",
      "Cell \u001b[0;32mIn[2], line 1\u001b[0m\n\u001b[0;32m----> 1\u001b[0m pdfkit\u001b[39m.\u001b[39;49mfrom_file(\u001b[39m'\u001b[39;49m\u001b[39m./publish/index.html\u001b[39;49m\u001b[39m'\u001b[39;49m, \u001b[39m'\u001b[39;49m\u001b[39mout_3.pdf\u001b[39;49m\u001b[39m'\u001b[39;49m)\n",
      "File \u001b[0;32m~/.local/lib/python3.10/site-packages/pdfkit/api.py:51\u001b[0m, in \u001b[0;36mfrom_file\u001b[0;34m(input, output_path, options, toc, cover, css, configuration, cover_first, verbose)\u001b[0m\n\u001b[1;32m     32\u001b[0m \u001b[39m\u001b[39m\u001b[39m\"\"\"\u001b[39;00m\n\u001b[1;32m     33\u001b[0m \u001b[39mConvert HTML file or files to PDF document\u001b[39;00m\n\u001b[1;32m     34\u001b[0m \n\u001b[0;32m   (...)\u001b[0m\n\u001b[1;32m     45\u001b[0m \u001b[39mReturns: True on success\u001b[39;00m\n\u001b[1;32m     46\u001b[0m \u001b[39m\"\"\"\u001b[39;00m\n\u001b[1;32m     48\u001b[0m r \u001b[39m=\u001b[39m PDFKit(\u001b[39minput\u001b[39m, \u001b[39m'\u001b[39m\u001b[39mfile\u001b[39m\u001b[39m'\u001b[39m, options\u001b[39m=\u001b[39moptions, toc\u001b[39m=\u001b[39mtoc, cover\u001b[39m=\u001b[39mcover, css\u001b[39m=\u001b[39mcss,\n\u001b[1;32m     49\u001b[0m            configuration\u001b[39m=\u001b[39mconfiguration, cover_first\u001b[39m=\u001b[39mcover_first, verbose\u001b[39m=\u001b[39mverbose)\n\u001b[0;32m---> 51\u001b[0m \u001b[39mreturn\u001b[39;00m r\u001b[39m.\u001b[39;49mto_pdf(output_path)\n",
      "File \u001b[0;32m~/.local/lib/python3.10/site-packages/pdfkit/pdfkit.py:201\u001b[0m, in \u001b[0;36mPDFKit.to_pdf\u001b[0;34m(self, path)\u001b[0m\n\u001b[1;32m    199\u001b[0m stderr \u001b[39m=\u001b[39m stderr\u001b[39m.\u001b[39mdecode(\u001b[39m'\u001b[39m\u001b[39mutf-8\u001b[39m\u001b[39m'\u001b[39m, errors\u001b[39m=\u001b[39m\u001b[39m'\u001b[39m\u001b[39mreplace\u001b[39m\u001b[39m'\u001b[39m)\n\u001b[1;32m    200\u001b[0m exit_code \u001b[39m=\u001b[39m result\u001b[39m.\u001b[39mreturncode\n\u001b[0;32m--> 201\u001b[0m \u001b[39mself\u001b[39;49m\u001b[39m.\u001b[39;49mhandle_error(exit_code, stderr)\n\u001b[1;32m    203\u001b[0m \u001b[39m# Since wkhtmltopdf sends its output to stderr we will capture it\u001b[39;00m\n\u001b[1;32m    204\u001b[0m \u001b[39m# and properly send to stdout\u001b[39;00m\n\u001b[1;32m    205\u001b[0m \u001b[39mif\u001b[39;00m \u001b[39m'\u001b[39m\u001b[39m--quiet\u001b[39m\u001b[39m'\u001b[39m \u001b[39mnot\u001b[39;00m \u001b[39min\u001b[39;00m args:\n",
      "File \u001b[0;32m~/.local/lib/python3.10/site-packages/pdfkit/pdfkit.py:155\u001b[0m, in \u001b[0;36mPDFKit.handle_error\u001b[0;34m(exit_code, stderr)\u001b[0m\n\u001b[1;32m    149\u001b[0m     \u001b[39mraise\u001b[39;00m \u001b[39mIOError\u001b[39;00m(\u001b[39m'\u001b[39m\u001b[39m%s\u001b[39;00m\u001b[39m\\n\u001b[39;00m\u001b[39m'\u001b[39m\n\u001b[1;32m    150\u001b[0m                   \u001b[39m'\u001b[39m\u001b[39mYou will need to run wkhtmltopdf within a \u001b[39m\u001b[39m\"\u001b[39m\u001b[39mvirtual\u001b[39m\u001b[39m\"\u001b[39m\u001b[39m X server.\u001b[39m\u001b[39m\\n\u001b[39;00m\u001b[39m'\u001b[39m\n\u001b[1;32m    151\u001b[0m                   \u001b[39m'\u001b[39m\u001b[39mGo to the link below for more information\u001b[39m\u001b[39m\\n\u001b[39;00m\u001b[39m'\u001b[39m\n\u001b[1;32m    152\u001b[0m                   \u001b[39m'\u001b[39m\u001b[39mhttps://github.com/JazzCore/python-pdfkit/wiki/Using-wkhtmltopdf-without-X-server\u001b[39m\u001b[39m'\u001b[39m \u001b[39m%\u001b[39m stderr)\n\u001b[1;32m    154\u001b[0m \u001b[39mif\u001b[39;00m \u001b[39m'\u001b[39m\u001b[39mError\u001b[39m\u001b[39m'\u001b[39m \u001b[39min\u001b[39;00m stderr:\n\u001b[0;32m--> 155\u001b[0m     \u001b[39mraise\u001b[39;00m \u001b[39mIOError\u001b[39;00m(\u001b[39m'\u001b[39m\u001b[39mwkhtmltopdf reported an error:\u001b[39m\u001b[39m\\n\u001b[39;00m\u001b[39m'\u001b[39m \u001b[39m+\u001b[39m stderr)\n\u001b[1;32m    157\u001b[0m error_msg \u001b[39m=\u001b[39m stderr \u001b[39mor\u001b[39;00m \u001b[39m'\u001b[39m\u001b[39mUnknown Error\u001b[39m\u001b[39m'\u001b[39m\n\u001b[1;32m    158\u001b[0m \u001b[39mraise\u001b[39;00m \u001b[39mIOError\u001b[39;00m(\u001b[39m\"\u001b[39m\u001b[39mwkhtmltopdf exited with non-zero code \u001b[39m\u001b[39m{0}\u001b[39;00m\u001b[39m. error:\u001b[39m\u001b[39m\\n\u001b[39;00m\u001b[39m{1}\u001b[39;00m\u001b[39m\"\u001b[39m\u001b[39m.\u001b[39mformat(exit_code, error_msg))\n",
      "\u001b[0;31mOSError\u001b[0m: wkhtmltopdf reported an error:\nQNetworkReplyImplPrivate::error: Internal problem, this method must only be called once.\nExit with code 1 due to network error: ProtocolUnknownError\n"
     ]
    }
   ],
   "source": [
    "pdfkit.from_file('./publish/index.html', 'out_3.pdf')"
   ]
  },
  {
   "cell_type": "code",
   "execution_count": 1,
   "metadata": {},
   "outputs": [
    {
     "data": {
      "text/plain": [
       "True"
      ]
     },
     "execution_count": 1,
     "metadata": {},
     "output_type": "execute_result"
    }
   ],
   "source": [
    "import pdfkit\n",
    "pdfkit.from_url('https://alesteba.github.io/tfg/','out.pdf')"
   ]
  },
  {
   "cell_type": "code",
   "execution_count": null,
   "metadata": {},
   "outputs": [],
   "source": [
    "# entonces: -> bajar el repositirio publicado: \n",
    "# mirar que las imágenes estén en local:\n",
    "# separar el proceso:\n",
    "# viernes memoria terminada:\n",
    "# cambiar el nombre de la imagen por el full path en el que se encuentre:\n",
    "# entonces la conversion es directa:"
   ]
  },
  {
   "cell_type": "code",
   "execution_count": 8,
   "metadata": {},
   "outputs": [
    {
     "data": {
      "text/plain": [
       "'e:\\\\UR\\\\TFG\\\\txt_mem'"
      ]
     },
     "execution_count": 8,
     "metadata": {},
     "output_type": "execute_result"
    }
   ],
   "source": [
    "import os.path\n",
    "\n",
    "current_directory = os.getcwd()\n",
    "\n",
    "parent_directory = os.path.split(current_directory)[0] # Repeat as needed\n",
    "\n",
    "parent_directory"
   ]
  },
  {
   "cell_type": "code",
   "execution_count": 9,
   "metadata": {},
   "outputs": [
    {
     "data": {
      "text/plain": [
       "'e:\\\\UR\\\\TFG\\\\txt_mem\\\\_k.pcs.zen\\\\publish\\\\index.html'"
      ]
     },
     "execution_count": 9,
     "metadata": {},
     "output_type": "execute_result"
    }
   ],
   "source": [
    "parent_directory + '\\\\_k.pcs.zen\\\\publish\\\\index.html'"
   ]
  },
  {
   "cell_type": "code",
   "execution_count": 10,
   "metadata": {},
   "outputs": [],
   "source": [
    "path_wkhtmltopdf = r'C:\\Program Files\\wkhtmltopdf\\bin\\wkhtmltopdf.exe'\n",
    "config = pdfkit.configuration(wkhtmltopdf=path_wkhtmltopdf)"
   ]
  },
  {
   "cell_type": "code",
   "execution_count": 11,
   "metadata": {},
   "outputs": [],
   "source": [
    "# pdfkit.from_file(parent_directory + '\\\\_k.pcs.zen\\\\publish\\\\index.html', parent_directory + '\\\\_k.pcs.zen\\\\publish\\\\out_txt.pdf', configuration=config)\n",
    "\n",
    "opt = {\n",
    "       'no-stop-slow-scripts': None,\n",
    "       'enable-javascript': True,\n",
    "       'javascript-delay': 10000\n",
    "       }\n"
   ]
  },
  {
   "cell_type": "code",
   "execution_count": 12,
   "metadata": {},
   "outputs": [
    {
     "data": {
      "text/plain": [
       "True"
      ]
     },
     "execution_count": 12,
     "metadata": {},
     "output_type": "execute_result"
    }
   ],
   "source": [
    "pdfkit.from_url(\"https://alesteba.github.io/tfg/\", parent_directory + '\\\\_k.pcs.zen\\\\publish\\\\out_txt.pdf', configuration=config, options=opt)"
   ]
  }
 ],
 "metadata": {
  "kernelspec": {
   "display_name": "Python 3",
   "language": "python",
   "name": "python3"
  },
  "language_info": {
   "codemirror_mode": {
    "name": "ipython",
    "version": 3
   },
   "file_extension": ".py",
   "mimetype": "text/x-python",
   "name": "python",
   "nbconvert_exporter": "python",
   "pygments_lexer": "ipython3",
   "version": "3.10.6"
  },
  "orig_nbformat": 4,
  "vscode": {
   "interpreter": {
    "hash": "9650cb4e16cdd4a8e8e2d128bf38d875813998db22a3c986335f89e0cb4d7bb2"
   }
  }
 },
 "nbformat": 4,
 "nbformat_minor": 2
}
