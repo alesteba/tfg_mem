{
 "cells": [
  {
   "cell_type": "code",
   "execution_count": 1,
   "metadata": {},
   "outputs": [],
   "source": [
    "# ensemble model:\n",
    "\n",
    "import pandas as pd\n",
    "import numpy as np\n",
    "import random"
   ]
  },
  {
   "cell_type": "code",
   "execution_count": 2,
   "metadata": {},
   "outputs": [
    {
     "data": {
      "text/html": [
       "<div>\n",
       "<style scoped>\n",
       "    .dataframe tbody tr th:only-of-type {\n",
       "        vertical-align: middle;\n",
       "    }\n",
       "\n",
       "    .dataframe tbody tr th {\n",
       "        vertical-align: top;\n",
       "    }\n",
       "\n",
       "    .dataframe thead th {\n",
       "        text-align: right;\n",
       "    }\n",
       "</style>\n",
       "<table border=\"1\" class=\"dataframe\">\n",
       "  <thead>\n",
       "    <tr style=\"text-align: right;\">\n",
       "      <th></th>\n",
       "      <th>IDX</th>\n",
       "      <th>mean_ndvi_2022-06-02</th>\n",
       "      <th>mean_ndvi_2022-06-17</th>\n",
       "      <th>mean_ndvi_2022-06-07</th>\n",
       "      <th>mean_ndvi_2022-06-22</th>\n",
       "      <th>mean_ndvi_2022-06-12</th>\n",
       "      <th>mean_ndre_2022-06-02</th>\n",
       "      <th>mean_ndre_2022-06-17</th>\n",
       "      <th>mean_ndre_2022-06-07</th>\n",
       "      <th>mean_ndre_2022-06-12</th>\n",
       "      <th>IDX.1</th>\n",
       "      <th>sum_ndvi_2022-06-02</th>\n",
       "      <th>sum_ndvi_2022-06-17</th>\n",
       "      <th>sum_ndvi_2022-06-07</th>\n",
       "      <th>sum_ndvi_2022-06-22</th>\n",
       "      <th>sum_ndvi_2022-06-12</th>\n",
       "      <th>sum_ndre_2022-06-02</th>\n",
       "      <th>sum_ndre_2022-06-17</th>\n",
       "      <th>sum_ndre_2022-06-07</th>\n",
       "      <th>sum_ndre_2022-06-12</th>\n",
       "    </tr>\n",
       "  </thead>\n",
       "  <tbody>\n",
       "    <tr>\n",
       "      <th>0</th>\n",
       "      <td>3942</td>\n",
       "      <td>0.007476</td>\n",
       "      <td>0.212770</td>\n",
       "      <td>0.180844</td>\n",
       "      <td>0.038478</td>\n",
       "      <td>0.219896</td>\n",
       "      <td>-0.017073</td>\n",
       "      <td>0.151714</td>\n",
       "      <td>0.123746</td>\n",
       "      <td>0.153333</td>\n",
       "      <td>3942</td>\n",
       "      <td>0.530825</td>\n",
       "      <td>15.106694</td>\n",
       "      <td>12.839933</td>\n",
       "      <td>2.731913</td>\n",
       "      <td>15.612608</td>\n",
       "      <td>-1.212181</td>\n",
       "      <td>10.771678</td>\n",
       "      <td>8.785966</td>\n",
       "      <td>10.886635</td>\n",
       "    </tr>\n",
       "    <tr>\n",
       "      <th>1</th>\n",
       "      <td>4053</td>\n",
       "      <td>0.008709</td>\n",
       "      <td>0.202058</td>\n",
       "      <td>0.165046</td>\n",
       "      <td>-0.019584</td>\n",
       "      <td>0.198812</td>\n",
       "      <td>-0.007738</td>\n",
       "      <td>0.134886</td>\n",
       "      <td>0.106043</td>\n",
       "      <td>0.128798</td>\n",
       "      <td>4053</td>\n",
       "      <td>1.689533</td>\n",
       "      <td>39.199349</td>\n",
       "      <td>32.018860</td>\n",
       "      <td>-3.799293</td>\n",
       "      <td>38.569600</td>\n",
       "      <td>-1.501124</td>\n",
       "      <td>26.167940</td>\n",
       "      <td>20.572346</td>\n",
       "      <td>24.986805</td>\n",
       "    </tr>\n",
       "    <tr>\n",
       "      <th>2</th>\n",
       "      <td>4196</td>\n",
       "      <td>0.204576</td>\n",
       "      <td>0.192939</td>\n",
       "      <td>0.156745</td>\n",
       "      <td>-0.011448</td>\n",
       "      <td>0.186642</td>\n",
       "      <td>0.226347</td>\n",
       "      <td>0.128658</td>\n",
       "      <td>0.095656</td>\n",
       "      <td>0.117090</td>\n",
       "      <td>4196</td>\n",
       "      <td>19.639275</td>\n",
       "      <td>18.522111</td>\n",
       "      <td>15.047543</td>\n",
       "      <td>-1.099016</td>\n",
       "      <td>17.917662</td>\n",
       "      <td>21.729303</td>\n",
       "      <td>12.351145</td>\n",
       "      <td>9.183014</td>\n",
       "      <td>11.240659</td>\n",
       "    </tr>\n",
       "    <tr>\n",
       "      <th>3</th>\n",
       "      <td>4422</td>\n",
       "      <td>-0.001838</td>\n",
       "      <td>0.198717</td>\n",
       "      <td>0.181343</td>\n",
       "      <td>-0.002894</td>\n",
       "      <td>0.215428</td>\n",
       "      <td>-0.036878</td>\n",
       "      <td>0.132829</td>\n",
       "      <td>0.113879</td>\n",
       "      <td>0.136089</td>\n",
       "      <td>4422</td>\n",
       "      <td>-0.104746</td>\n",
       "      <td>11.326846</td>\n",
       "      <td>10.336535</td>\n",
       "      <td>-0.164956</td>\n",
       "      <td>12.279409</td>\n",
       "      <td>-2.102046</td>\n",
       "      <td>7.571269</td>\n",
       "      <td>6.491099</td>\n",
       "      <td>7.757051</td>\n",
       "    </tr>\n",
       "    <tr>\n",
       "      <th>4</th>\n",
       "      <td>4424</td>\n",
       "      <td>-0.046762</td>\n",
       "      <td>0.205482</td>\n",
       "      <td>0.185708</td>\n",
       "      <td>-0.005377</td>\n",
       "      <td>0.218237</td>\n",
       "      <td>-0.094255</td>\n",
       "      <td>0.145178</td>\n",
       "      <td>0.124556</td>\n",
       "      <td>0.148208</td>\n",
       "      <td>4424</td>\n",
       "      <td>-1.730197</td>\n",
       "      <td>7.602816</td>\n",
       "      <td>6.871180</td>\n",
       "      <td>-0.198932</td>\n",
       "      <td>8.074769</td>\n",
       "      <td>-3.487440</td>\n",
       "      <td>5.371600</td>\n",
       "      <td>4.608560</td>\n",
       "      <td>5.483689</td>\n",
       "    </tr>\n",
       "  </tbody>\n",
       "</table>\n",
       "</div>"
      ],
      "text/plain": [
       "    IDX  mean_ndvi_2022-06-02  mean_ndvi_2022-06-17  mean_ndvi_2022-06-07  \\\n",
       "0  3942              0.007476              0.212770              0.180844   \n",
       "1  4053              0.008709              0.202058              0.165046   \n",
       "2  4196              0.204576              0.192939              0.156745   \n",
       "3  4422             -0.001838              0.198717              0.181343   \n",
       "4  4424             -0.046762              0.205482              0.185708   \n",
       "\n",
       "   mean_ndvi_2022-06-22  mean_ndvi_2022-06-12  mean_ndre_2022-06-02  \\\n",
       "0              0.038478              0.219896             -0.017073   \n",
       "1             -0.019584              0.198812             -0.007738   \n",
       "2             -0.011448              0.186642              0.226347   \n",
       "3             -0.002894              0.215428             -0.036878   \n",
       "4             -0.005377              0.218237             -0.094255   \n",
       "\n",
       "   mean_ndre_2022-06-17  mean_ndre_2022-06-07  mean_ndre_2022-06-12  IDX.1  \\\n",
       "0              0.151714              0.123746              0.153333   3942   \n",
       "1              0.134886              0.106043              0.128798   4053   \n",
       "2              0.128658              0.095656              0.117090   4196   \n",
       "3              0.132829              0.113879              0.136089   4422   \n",
       "4              0.145178              0.124556              0.148208   4424   \n",
       "\n",
       "   sum_ndvi_2022-06-02  sum_ndvi_2022-06-17  sum_ndvi_2022-06-07  \\\n",
       "0             0.530825            15.106694            12.839933   \n",
       "1             1.689533            39.199349            32.018860   \n",
       "2            19.639275            18.522111            15.047543   \n",
       "3            -0.104746            11.326846            10.336535   \n",
       "4            -1.730197             7.602816             6.871180   \n",
       "\n",
       "   sum_ndvi_2022-06-22  sum_ndvi_2022-06-12  sum_ndre_2022-06-02  \\\n",
       "0             2.731913            15.612608            -1.212181   \n",
       "1            -3.799293            38.569600            -1.501124   \n",
       "2            -1.099016            17.917662            21.729303   \n",
       "3            -0.164956            12.279409            -2.102046   \n",
       "4            -0.198932             8.074769            -3.487440   \n",
       "\n",
       "   sum_ndre_2022-06-17  sum_ndre_2022-06-07  sum_ndre_2022-06-12  \n",
       "0            10.771678             8.785966            10.886635  \n",
       "1            26.167940            20.572346            24.986805  \n",
       "2            12.351145             9.183014            11.240659  \n",
       "3             7.571269             6.491099             7.757051  \n",
       "4             5.371600             4.608560             5.483689  "
      ]
     },
     "execution_count": 2,
     "metadata": {},
     "output_type": "execute_result"
    }
   ],
   "source": [
    "df = pd.read_csv(r'./data/preprocess.csv')\n",
    "\n",
    "df.head()"
   ]
  },
  {
   "cell_type": "code",
   "execution_count": 3,
   "metadata": {},
   "outputs": [],
   "source": [
    "target = pd.read_csv('./data/target_PROD.csv')"
   ]
  },
  {
   "cell_type": "code",
   "execution_count": 4,
   "metadata": {},
   "outputs": [],
   "source": [
    "X = pd.read_csv(r'./preprocess.csv')\n",
    "\n",
    "y = target['PROD']"
   ]
  },
  {
   "attachments": {},
   "cell_type": "markdown",
   "metadata": {},
   "source": [
    "### BEST_MODELS / MLP / RF / SVR"
   ]
  },
  {
   "cell_type": "code",
   "execution_count": 5,
   "metadata": {},
   "outputs": [],
   "source": [
    "# MLP\n",
    "\n",
    "from sklearn.neural_network import MLPRegressor\n",
    "\n",
    "# utilizamos los mejores parámetros observados en pts anteriores:\n",
    "\n",
    "mlp = MLPRegressor(\n",
    "\n",
    "    **{'activation': 'tanh', 'alpha': 0.05, 'hidden_layer_sizes': (120, 80, 40), 'learning_rate': 'adaptive', 'max_iter': 50, 'solver': 'sgd'}\n",
    ")"
   ]
  },
  {
   "cell_type": "code",
   "execution_count": 6,
   "metadata": {},
   "outputs": [],
   "source": [
    "# RANDOM FOREST\n",
    "\n",
    "from sklearn.ensemble import RandomForestRegressor\n",
    "\n",
    "# utilizamos los mejores parámetros observados en pts anteriores:\n",
    "\n",
    "rf  = RandomForestRegressor(\n",
    "    \n",
    "    **{'max_depth': 3,\n",
    "    'max_features': 'sqrt',\n",
    "    'n_estimators': 10,\n",
    "    'random_state': 42}\n",
    ")"
   ]
  },
  {
   "cell_type": "code",
   "execution_count": 7,
   "metadata": {},
   "outputs": [],
   "source": [
    "from sklearn.svm import SVR\n",
    "\n",
    "svr = SVR(**{'C': 1.0, 'gamma': 0.1, 'kernel': 'rbf'})"
   ]
  },
  {
   "attachments": {},
   "cell_type": "markdown",
   "metadata": {},
   "source": [
    "### VOTING"
   ]
  },
  {
   "cell_type": "code",
   "execution_count": 8,
   "metadata": {},
   "outputs": [],
   "source": [
    "from sklearn.ensemble import VotingRegressor#create a dictionary of our models\n",
    "\n",
    "estimators=[\n",
    "    ('knn', mlp), \n",
    "    ('rf', rf), \n",
    "    ('svr', svr)\n",
    "]#create our voting classifier, inputting our models\n",
    "\n",
    "ensemble = VotingRegressor(estimators)\n",
    "\n",
    "# modelo ensemble creado:"
   ]
  },
  {
   "cell_type": "code",
   "execution_count": 9,
   "metadata": {},
   "outputs": [],
   "source": [
    "from sklearn.preprocessing import LabelEncoder\n",
    "from sklearn.model_selection import train_test_split\n",
    "from sklearn.preprocessing import StandardScaler"
   ]
  },
  {
   "cell_type": "code",
   "execution_count": 10,
   "metadata": {},
   "outputs": [],
   "source": [
    "SEED = 42\n",
    "\n",
    "X_train, X_test, y_train, y_test= train_test_split(\n",
    "    \n",
    "    X,y,\n",
    "    train_size   = 0.8,\n",
    "    random_state = SEED,\n",
    ")"
   ]
  },
  {
   "cell_type": "code",
   "execution_count": 16,
   "metadata": {},
   "outputs": [
    {
     "name": "stderr",
     "output_type": "stream",
     "text": [
      "c:\\Users\\Alberto-PC\\Desktop\\venv-data-science\\lib\\site-packages\\sklearn\\neural_network\\_multilayer_perceptron.py:702: ConvergenceWarning: Stochastic Optimizer: Maximum iterations (50) reached and the optimization hasn't converged yet.\n",
      "  warnings.warn(\n"
     ]
    },
    {
     "data": {
      "text/html": [
       "<style>#sk-container-id-1 {color: black;background-color: white;}#sk-container-id-1 pre{padding: 0;}#sk-container-id-1 div.sk-toggleable {background-color: white;}#sk-container-id-1 label.sk-toggleable__label {cursor: pointer;display: block;width: 100%;margin-bottom: 0;padding: 0.3em;box-sizing: border-box;text-align: center;}#sk-container-id-1 label.sk-toggleable__label-arrow:before {content: \"▸\";float: left;margin-right: 0.25em;color: #696969;}#sk-container-id-1 label.sk-toggleable__label-arrow:hover:before {color: black;}#sk-container-id-1 div.sk-estimator:hover label.sk-toggleable__label-arrow:before {color: black;}#sk-container-id-1 div.sk-toggleable__content {max-height: 0;max-width: 0;overflow: hidden;text-align: left;background-color: #f0f8ff;}#sk-container-id-1 div.sk-toggleable__content pre {margin: 0.2em;color: black;border-radius: 0.25em;background-color: #f0f8ff;}#sk-container-id-1 input.sk-toggleable__control:checked~div.sk-toggleable__content {max-height: 200px;max-width: 100%;overflow: auto;}#sk-container-id-1 input.sk-toggleable__control:checked~label.sk-toggleable__label-arrow:before {content: \"▾\";}#sk-container-id-1 div.sk-estimator input.sk-toggleable__control:checked~label.sk-toggleable__label {background-color: #d4ebff;}#sk-container-id-1 div.sk-label input.sk-toggleable__control:checked~label.sk-toggleable__label {background-color: #d4ebff;}#sk-container-id-1 input.sk-hidden--visually {border: 0;clip: rect(1px 1px 1px 1px);clip: rect(1px, 1px, 1px, 1px);height: 1px;margin: -1px;overflow: hidden;padding: 0;position: absolute;width: 1px;}#sk-container-id-1 div.sk-estimator {font-family: monospace;background-color: #f0f8ff;border: 1px dotted black;border-radius: 0.25em;box-sizing: border-box;margin-bottom: 0.5em;}#sk-container-id-1 div.sk-estimator:hover {background-color: #d4ebff;}#sk-container-id-1 div.sk-parallel-item::after {content: \"\";width: 100%;border-bottom: 1px solid gray;flex-grow: 1;}#sk-container-id-1 div.sk-label:hover label.sk-toggleable__label {background-color: #d4ebff;}#sk-container-id-1 div.sk-serial::before {content: \"\";position: absolute;border-left: 1px solid gray;box-sizing: border-box;top: 0;bottom: 0;left: 50%;z-index: 0;}#sk-container-id-1 div.sk-serial {display: flex;flex-direction: column;align-items: center;background-color: white;padding-right: 0.2em;padding-left: 0.2em;position: relative;}#sk-container-id-1 div.sk-item {position: relative;z-index: 1;}#sk-container-id-1 div.sk-parallel {display: flex;align-items: stretch;justify-content: center;background-color: white;position: relative;}#sk-container-id-1 div.sk-item::before, #sk-container-id-1 div.sk-parallel-item::before {content: \"\";position: absolute;border-left: 1px solid gray;box-sizing: border-box;top: 0;bottom: 0;left: 50%;z-index: -1;}#sk-container-id-1 div.sk-parallel-item {display: flex;flex-direction: column;z-index: 1;position: relative;background-color: white;}#sk-container-id-1 div.sk-parallel-item:first-child::after {align-self: flex-end;width: 50%;}#sk-container-id-1 div.sk-parallel-item:last-child::after {align-self: flex-start;width: 50%;}#sk-container-id-1 div.sk-parallel-item:only-child::after {width: 0;}#sk-container-id-1 div.sk-dashed-wrapped {border: 1px dashed gray;margin: 0 0.4em 0.5em 0.4em;box-sizing: border-box;padding-bottom: 0.4em;background-color: white;}#sk-container-id-1 div.sk-label label {font-family: monospace;font-weight: bold;display: inline-block;line-height: 1.2em;}#sk-container-id-1 div.sk-label-container {text-align: center;}#sk-container-id-1 div.sk-container {/* jupyter's `normalize.less` sets `[hidden] { display: none; }` but bootstrap.min.css set `[hidden] { display: none !important; }` so we also need the `!important` here to be able to override the default hidden behavior on the sphinx rendered scikit-learn.org. See: https://github.com/scikit-learn/scikit-learn/issues/21755 */display: inline-block !important;position: relative;}#sk-container-id-1 div.sk-text-repr-fallback {display: none;}</style><div id=\"sk-container-id-1\" class=\"sk-top-container\"><div class=\"sk-text-repr-fallback\"><pre>SVR(gamma=0.1)</pre><b>In a Jupyter environment, please rerun this cell to show the HTML representation or trust the notebook. <br />On GitHub, the HTML representation is unable to render, please try loading this page with nbviewer.org.</b></div><div class=\"sk-container\" hidden><div class=\"sk-item\"><div class=\"sk-estimator sk-toggleable\"><input class=\"sk-toggleable__control sk-hidden--visually\" id=\"sk-estimator-id-1\" type=\"checkbox\" checked><label for=\"sk-estimator-id-1\" class=\"sk-toggleable__label sk-toggleable__label-arrow\">SVR</label><div class=\"sk-toggleable__content\"><pre>SVR(gamma=0.1)</pre></div></div></div></div></div>"
      ],
      "text/plain": [
       "SVR(gamma=0.1)"
      ]
     },
     "execution_count": 16,
     "metadata": {},
     "output_type": "execute_result"
    }
   ],
   "source": [
    "mlp.fit(X_train, y_train)\n",
    "rf.fit(X_train, y_train)\n",
    "svr.fit(X_train, y_train)"
   ]
  },
  {
   "cell_type": "code",
   "execution_count": 17,
   "metadata": {},
   "outputs": [
    {
     "name": "stderr",
     "output_type": "stream",
     "text": [
      "c:\\Users\\Alberto-PC\\Desktop\\venv-data-science\\lib\\site-packages\\sklearn\\neural_network\\_multilayer_perceptron.py:702: ConvergenceWarning: Stochastic Optimizer: Maximum iterations (50) reached and the optimization hasn't converged yet.\n",
      "  warnings.warn(\n"
     ]
    },
    {
     "data": {
      "text/html": [
       "<style>#sk-container-id-2 {color: black;background-color: white;}#sk-container-id-2 pre{padding: 0;}#sk-container-id-2 div.sk-toggleable {background-color: white;}#sk-container-id-2 label.sk-toggleable__label {cursor: pointer;display: block;width: 100%;margin-bottom: 0;padding: 0.3em;box-sizing: border-box;text-align: center;}#sk-container-id-2 label.sk-toggleable__label-arrow:before {content: \"▸\";float: left;margin-right: 0.25em;color: #696969;}#sk-container-id-2 label.sk-toggleable__label-arrow:hover:before {color: black;}#sk-container-id-2 div.sk-estimator:hover label.sk-toggleable__label-arrow:before {color: black;}#sk-container-id-2 div.sk-toggleable__content {max-height: 0;max-width: 0;overflow: hidden;text-align: left;background-color: #f0f8ff;}#sk-container-id-2 div.sk-toggleable__content pre {margin: 0.2em;color: black;border-radius: 0.25em;background-color: #f0f8ff;}#sk-container-id-2 input.sk-toggleable__control:checked~div.sk-toggleable__content {max-height: 200px;max-width: 100%;overflow: auto;}#sk-container-id-2 input.sk-toggleable__control:checked~label.sk-toggleable__label-arrow:before {content: \"▾\";}#sk-container-id-2 div.sk-estimator input.sk-toggleable__control:checked~label.sk-toggleable__label {background-color: #d4ebff;}#sk-container-id-2 div.sk-label input.sk-toggleable__control:checked~label.sk-toggleable__label {background-color: #d4ebff;}#sk-container-id-2 input.sk-hidden--visually {border: 0;clip: rect(1px 1px 1px 1px);clip: rect(1px, 1px, 1px, 1px);height: 1px;margin: -1px;overflow: hidden;padding: 0;position: absolute;width: 1px;}#sk-container-id-2 div.sk-estimator {font-family: monospace;background-color: #f0f8ff;border: 1px dotted black;border-radius: 0.25em;box-sizing: border-box;margin-bottom: 0.5em;}#sk-container-id-2 div.sk-estimator:hover {background-color: #d4ebff;}#sk-container-id-2 div.sk-parallel-item::after {content: \"\";width: 100%;border-bottom: 1px solid gray;flex-grow: 1;}#sk-container-id-2 div.sk-label:hover label.sk-toggleable__label {background-color: #d4ebff;}#sk-container-id-2 div.sk-serial::before {content: \"\";position: absolute;border-left: 1px solid gray;box-sizing: border-box;top: 0;bottom: 0;left: 50%;z-index: 0;}#sk-container-id-2 div.sk-serial {display: flex;flex-direction: column;align-items: center;background-color: white;padding-right: 0.2em;padding-left: 0.2em;position: relative;}#sk-container-id-2 div.sk-item {position: relative;z-index: 1;}#sk-container-id-2 div.sk-parallel {display: flex;align-items: stretch;justify-content: center;background-color: white;position: relative;}#sk-container-id-2 div.sk-item::before, #sk-container-id-2 div.sk-parallel-item::before {content: \"\";position: absolute;border-left: 1px solid gray;box-sizing: border-box;top: 0;bottom: 0;left: 50%;z-index: -1;}#sk-container-id-2 div.sk-parallel-item {display: flex;flex-direction: column;z-index: 1;position: relative;background-color: white;}#sk-container-id-2 div.sk-parallel-item:first-child::after {align-self: flex-end;width: 50%;}#sk-container-id-2 div.sk-parallel-item:last-child::after {align-self: flex-start;width: 50%;}#sk-container-id-2 div.sk-parallel-item:only-child::after {width: 0;}#sk-container-id-2 div.sk-dashed-wrapped {border: 1px dashed gray;margin: 0 0.4em 0.5em 0.4em;box-sizing: border-box;padding-bottom: 0.4em;background-color: white;}#sk-container-id-2 div.sk-label label {font-family: monospace;font-weight: bold;display: inline-block;line-height: 1.2em;}#sk-container-id-2 div.sk-label-container {text-align: center;}#sk-container-id-2 div.sk-container {/* jupyter's `normalize.less` sets `[hidden] { display: none; }` but bootstrap.min.css set `[hidden] { display: none !important; }` so we also need the `!important` here to be able to override the default hidden behavior on the sphinx rendered scikit-learn.org. See: https://github.com/scikit-learn/scikit-learn/issues/21755 */display: inline-block !important;position: relative;}#sk-container-id-2 div.sk-text-repr-fallback {display: none;}</style><div id=\"sk-container-id-2\" class=\"sk-top-container\"><div class=\"sk-text-repr-fallback\"><pre>VotingRegressor(estimators=[(&#x27;knn&#x27;,\n",
       "                             MLPRegressor(activation=&#x27;tanh&#x27;, alpha=0.05,\n",
       "                                          hidden_layer_sizes=(120, 80, 40),\n",
       "                                          learning_rate=&#x27;adaptive&#x27;, max_iter=50,\n",
       "                                          solver=&#x27;sgd&#x27;)),\n",
       "                            (&#x27;rf&#x27;,\n",
       "                             RandomForestRegressor(max_depth=3,\n",
       "                                                   max_features=&#x27;sqrt&#x27;,\n",
       "                                                   n_estimators=10,\n",
       "                                                   random_state=42)),\n",
       "                            (&#x27;svr&#x27;, SVR(gamma=0.1))])</pre><b>In a Jupyter environment, please rerun this cell to show the HTML representation or trust the notebook. <br />On GitHub, the HTML representation is unable to render, please try loading this page with nbviewer.org.</b></div><div class=\"sk-container\" hidden><div class=\"sk-item sk-dashed-wrapped\"><div class=\"sk-label-container\"><div class=\"sk-label sk-toggleable\"><input class=\"sk-toggleable__control sk-hidden--visually\" id=\"sk-estimator-id-2\" type=\"checkbox\" ><label for=\"sk-estimator-id-2\" class=\"sk-toggleable__label sk-toggleable__label-arrow\">VotingRegressor</label><div class=\"sk-toggleable__content\"><pre>VotingRegressor(estimators=[(&#x27;knn&#x27;,\n",
       "                             MLPRegressor(activation=&#x27;tanh&#x27;, alpha=0.05,\n",
       "                                          hidden_layer_sizes=(120, 80, 40),\n",
       "                                          learning_rate=&#x27;adaptive&#x27;, max_iter=50,\n",
       "                                          solver=&#x27;sgd&#x27;)),\n",
       "                            (&#x27;rf&#x27;,\n",
       "                             RandomForestRegressor(max_depth=3,\n",
       "                                                   max_features=&#x27;sqrt&#x27;,\n",
       "                                                   n_estimators=10,\n",
       "                                                   random_state=42)),\n",
       "                            (&#x27;svr&#x27;, SVR(gamma=0.1))])</pre></div></div></div><div class=\"sk-parallel\"><div class=\"sk-parallel-item\"><div class=\"sk-item\"><div class=\"sk-label-container\"><div class=\"sk-label sk-toggleable\"><label>knn</label></div></div><div class=\"sk-serial\"><div class=\"sk-item\"><div class=\"sk-estimator sk-toggleable\"><input class=\"sk-toggleable__control sk-hidden--visually\" id=\"sk-estimator-id-3\" type=\"checkbox\" ><label for=\"sk-estimator-id-3\" class=\"sk-toggleable__label sk-toggleable__label-arrow\">MLPRegressor</label><div class=\"sk-toggleable__content\"><pre>MLPRegressor(activation=&#x27;tanh&#x27;, alpha=0.05, hidden_layer_sizes=(120, 80, 40),\n",
       "             learning_rate=&#x27;adaptive&#x27;, max_iter=50, solver=&#x27;sgd&#x27;)</pre></div></div></div></div></div></div><div class=\"sk-parallel-item\"><div class=\"sk-item\"><div class=\"sk-label-container\"><div class=\"sk-label sk-toggleable\"><label>rf</label></div></div><div class=\"sk-serial\"><div class=\"sk-item\"><div class=\"sk-estimator sk-toggleable\"><input class=\"sk-toggleable__control sk-hidden--visually\" id=\"sk-estimator-id-4\" type=\"checkbox\" ><label for=\"sk-estimator-id-4\" class=\"sk-toggleable__label sk-toggleable__label-arrow\">RandomForestRegressor</label><div class=\"sk-toggleable__content\"><pre>RandomForestRegressor(max_depth=3, max_features=&#x27;sqrt&#x27;, n_estimators=10,\n",
       "                      random_state=42)</pre></div></div></div></div></div></div><div class=\"sk-parallel-item\"><div class=\"sk-item\"><div class=\"sk-label-container\"><div class=\"sk-label sk-toggleable\"><label>svr</label></div></div><div class=\"sk-serial\"><div class=\"sk-item\"><div class=\"sk-estimator sk-toggleable\"><input class=\"sk-toggleable__control sk-hidden--visually\" id=\"sk-estimator-id-5\" type=\"checkbox\" ><label for=\"sk-estimator-id-5\" class=\"sk-toggleable__label sk-toggleable__label-arrow\">SVR</label><div class=\"sk-toggleable__content\"><pre>SVR(gamma=0.1)</pre></div></div></div></div></div></div></div></div></div></div>"
      ],
      "text/plain": [
       "VotingRegressor(estimators=[('knn',\n",
       "                             MLPRegressor(activation='tanh', alpha=0.05,\n",
       "                                          hidden_layer_sizes=(120, 80, 40),\n",
       "                                          learning_rate='adaptive', max_iter=50,\n",
       "                                          solver='sgd')),\n",
       "                            ('rf',\n",
       "                             RandomForestRegressor(max_depth=3,\n",
       "                                                   max_features='sqrt',\n",
       "                                                   n_estimators=10,\n",
       "                                                   random_state=42)),\n",
       "                            ('svr', SVR(gamma=0.1))])"
      ]
     },
     "execution_count": 17,
     "metadata": {},
     "output_type": "execute_result"
    }
   ],
   "source": [
    "ensemble.fit(X_train, y_train)\n"
   ]
  },
  {
   "cell_type": "code",
   "execution_count": 18,
   "metadata": {},
   "outputs": [
    {
     "name": "stdout",
     "output_type": "stream",
     "text": [
      "[4614.6760087  3915.04419461 4992.21470766 4147.76213992 5170.15572819]\n"
     ]
    }
   ],
   "source": [
    "y_pred = ensemble.predict(X_test)\n",
    "\n",
    "print(y_pred)"
   ]
  },
  {
   "cell_type": "code",
   "execution_count": 19,
   "metadata": {},
   "outputs": [
    {
     "name": "stdout",
     "output_type": "stream",
     "text": [
      "Mean Absolute Error (MAE): 7821.82944418154\n",
      "Mean Squared Error (MSE): 163090467.43978292\n",
      "Root Mean Squared Error (RMSE): 12770.687821718253\n"
     ]
    }
   ],
   "source": [
    "from sklearn import metrics\n",
    "\n",
    "# test metrics:\n",
    "\n",
    "print('Mean Absolute Error (MAE):', metrics.mean_absolute_error(y_test, y_pred))\n",
    "print('Mean Squared Error (MSE):', metrics.mean_squared_error(y_test, y_pred))\n",
    "print('Root Mean Squared Error (RMSE):', np.sqrt(metrics.mean_squared_error(y_test, y_pred)))"
   ]
  },
  {
   "cell_type": "code",
   "execution_count": 20,
   "metadata": {},
   "outputs": [],
   "source": [
    "xt = X[:20]\n",
    "\n",
    "pred1 = mlp.predict(xt)\n",
    "pred2 = rf.predict(xt)\n",
    "pred3 = svr.predict(xt)\n",
    "pred4 = ensemble.predict(xt)"
   ]
  },
  {
   "cell_type": "code",
   "execution_count": 22,
   "metadata": {},
   "outputs": [],
   "source": [
    "import matplotlib.pyplot as plt"
   ]
  },
  {
   "cell_type": "code",
   "execution_count": 23,
   "metadata": {},
   "outputs": [
    {
     "data": {
      "image/png": "[encoded data removed]",
      "text/plain": [
       "<Figure size 432x288 with 1 Axes>"
      ]
     },
     "metadata": {
      "needs_background": "light"
     },
     "output_type": "display_data"
    }
   ],
   "source": [
    "plt.figure()\n",
    "plt.plot(pred1, \"gd\", label=\"MLP\")\n",
    "plt.plot(pred2, \"b^\", label=\"RF\")\n",
    "plt.plot(pred3, \"ys\", label=\"SVR\")\n",
    "plt.plot(pred4, \"r*\", ms=10, label=\"VotingRegressor\")\n",
    "\n",
    "plt.tick_params(axis=\"x\", which=\"both\", bottom=False, top=False, labelbottom=False)\n",
    "plt.ylabel(\"predicted\")\n",
    "plt.xlabel(\"training samples\")\n",
    "plt.legend(loc=\"best\")\n",
    "plt.title(\"Regressor predictions and their average\")\n",
    "\n",
    "plt.show()"
   ]
  },
  {
   "attachments": {},
   "cell_type": "markdown",
   "metadata": {},
   "source": [
    "# obtenemos un plot de predicciones para las 20 primeras filas del df. \n",
    "# comparamos el ensemble con cada modelo individual."
   ]
  },
  {
   "attachments": {},
   "cell_type": "markdown",
   "metadata": {},
   "source": [
    "### STACK_MODEL"
   ]
  },
  {
   "cell_type": "code",
   "execution_count": null,
   "metadata": {},
   "outputs": [],
   "source": [
    "# hacemos un grid search sobre un gran número de hiperparámetros."
   ]
  },
  {
   "cell_type": "code",
   "execution_count": 24,
   "metadata": {},
   "outputs": [],
   "source": [
    "# STACK\n",
    "\n",
    "from sklearn.linear_model import RidgeCV, LassoCV\n",
    "from sklearn.neighbors import KNeighborsRegressor\n",
    "\n",
    "estimators = [('forest', rf),\n",
    "              ('mlp', mlp),\n",
    "              ('svr', svr)]\n",
    "\n",
    "from sklearn.ensemble import GradientBoostingRegressor\n",
    "from sklearn.ensemble import StackingRegressor\n",
    "from sklearn.model_selection import GridSearchCV\n",
    "from sklearn.model_selection import KFold\n",
    "\n",
    "crossvalidation=KFold(n_splits=10,shuffle=True,random_state=1)\n",
    "\n",
    "GBR=GradientBoostingRegressor()\n",
    "\n",
    "search_grid={\n",
    "    'n_estimators':[500,1000,2000],\n",
    "    'learning_rate':[.001,0.01,.1],\n",
    "    'max_depth':[1,2,4],\n",
    "    'subsample':[.5,.75,1],\n",
    "    'random_state':[1]\n",
    "}\n",
    "\n",
    "search=GridSearchCV(\n",
    "    \n",
    "    estimator=GBR,\n",
    "    param_grid=search_grid,\n",
    "    scoring='neg_mean_squared_error',\n",
    "    n_jobs=1,cv=crossvalidation\n",
    ")\n",
    "\n",
    "search.fit(X_train, y_train)\n",
    "params = search.best_params_\n",
    "\n",
    "final_estimator = GradientBoostingRegressor(**search.best_params_)\n",
    "\n",
    "reg = StackingRegressor(\n",
    "\n",
    "    estimators=estimators,\n",
    "    final_estimator=GBR)"
   ]
  },
  {
   "cell_type": "code",
   "execution_count": 28,
   "metadata": {},
   "outputs": [
    {
     "data": {
      "text/plain": [
       "{'learning_rate': 0.001,\n",
       " 'max_depth': 1,\n",
       " 'n_estimators': 500,\n",
       " 'random_state': 1,\n",
       " 'subsample': 0.5}"
      ]
     },
     "execution_count": 28,
     "metadata": {},
     "output_type": "execute_result"
    }
   ],
   "source": [
    "# mejores parámetros encontrados\n",
    "\n",
    "params"
   ]
  },
  {
   "cell_type": "code",
   "execution_count": 30,
   "metadata": {},
   "outputs": [],
   "source": [
    "import warnings\n",
    "warnings.filterwarnings('ignore')"
   ]
  },
  {
   "cell_type": "code",
   "execution_count": 31,
   "metadata": {},
   "outputs": [
    {
     "name": "stdout",
     "output_type": "stream",
     "text": [
      "[10448.93974662  8309.44475372  3857.99358598  3232.45485466\n",
      "  3676.99287159]\n"
     ]
    }
   ],
   "source": [
    "reg.fit(X_train, y_train)\n",
    "\n",
    "y_pred = reg.predict(X_test)\n",
    "\n",
    "print(y_pred)"
   ]
  },
  {
   "cell_type": "code",
   "execution_count": 32,
   "metadata": {},
   "outputs": [
    {
     "name": "stdout",
     "output_type": "stream",
     "text": [
      "Mean Absolute Error (MAE): 8038.012738974883\n",
      "Mean Squared Error (MSE): 162602504.08348495\n",
      "Root Mean Squared Error (RMSE): 12751.56869108601\n"
     ]
    }
   ],
   "source": [
    "from sklearn import metrics\n",
    "\n",
    "# test metrics:\n",
    "\n",
    "print('Mean Absolute Error (MAE):', metrics.mean_absolute_error(y_test, y_pred))\n",
    "print('Mean Squared Error (MSE):', metrics.mean_squared_error(y_test, y_pred))\n",
    "print('Root Mean Squared Error (RMSE):', np.sqrt(metrics.mean_squared_error(y_test, y_pred)))"
   ]
  }
 ],
 "metadata": {
  "kernelspec": {
   "display_name": "venv-data-science",
   "language": "python",
   "name": "venv-data-science"
  },
  "language_info": {
   "codemirror_mode": {
    "name": "ipython",
    "version": 3
   },
   "file_extension": ".py",
   "mimetype": "text/x-python",
   "name": "python",
   "nbconvert_exporter": "python",
   "pygments_lexer": "ipython3",
   "version": "3.9.0"
  },
  "orig_nbformat": 4,
  "vscode": {
   "interpreter": {
    "hash": "9650cb4e16cdd4a8e8e2d128bf38d875813998db22a3c986335f89e0cb4d7bb2"
   }
  }
 },
 "nbformat": 4,
 "nbformat_minor": 2
}
