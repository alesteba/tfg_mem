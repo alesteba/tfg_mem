{
 "cells": [
  {
   "cell_type": "code",
   "execution_count": null,
   "metadata": {},
   "outputs": [],
   "source": [
    "# transformar las rutas relativas de las imágenes para que incluyan la dirección del repositorio final:\n",
    "\n"
   ]
  },
  {
   "cell_type": "code",
   "execution_count": null,
   "metadata": {},
   "outputs": [],
   "source": [
    "# read from web:\n",
    "\n",
    "from bs4 import BeautifulSoup\n",
    "\n",
    "# add domain \n",
    "\n",
    "soup = BeautifulSoup(end_doc_1)\n",
    "\n",
    "for img in soup.findAll('img'):\n",
    "\n",
    "    img['src'] = 'https://raw.githubusercontent.com/alesteba/tfg/main/'+img['src']\n",
    "\n",
    "html_str = str(soup)"
   ]
  }
 ],
 "metadata": {
  "language_info": {
   "name": "python"
  },
  "orig_nbformat": 4
 },
 "nbformat": 4,
 "nbformat_minor": 2
}
